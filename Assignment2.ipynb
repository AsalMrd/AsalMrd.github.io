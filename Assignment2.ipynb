{
 "cells": [
  {
   "cell_type": "markdown",
   "metadata": {},
   "source": [
    "\n",
    "\n",
    "## Assignment 2: Data, Grammar and Engineering\n",
    "\n",
    "**AMS MADE YMS31303**<br>\n",
    "**Q1 2024**<br>\n",
    "**Instructor:** Theodoros Chatzivasileiadis <br>\n",
    "**Instructor:** Hans Hoogenboom <br>\n",
    "**TA:** Ka Yi Chua <br>\n",
    "**[Metropolitan Data 1](https://jhoogenboom.github.io/spatial-data-science/_index.html)** <br>\n",
    "\n",
    "---\n",
    "\n"
   ]
  },
  {
   "cell_type": "markdown",
   "metadata": {},
   "source": [
    "## Question 1\n",
    "\n",
    "We will work with data from the Guardian's version of [Wikileaks' Afghanistan war logs](http://www.theguardian.com/news/datablog/2010/jul/27/wikileaks-afghanistan-data-datajournalism). The table is stored on a GoogleDoc on the following address:\n",
    "\n",
    "> [https://docs.google.com/spreadsheets/d/1EAx8_ksSCmoWW_SlhFyq2QrRn0FNNhcg1TtDFJzZRgc/edit?hl=en#gid=1](https://docs.google.com/spreadsheets/d/1EAx8_ksSCmoWW_SlhFyq2QrRn0FNNhcg1TtDFJzZRgc/edit?hl=en#gid=1)\n",
    "\n",
    "Write a Python code snippet using IPython.display to embed this Google Sheet directly into a Jupyter notebook for easy reference and interaction."
   ]
  },
  {
   "cell_type": "code",
   "execution_count": 23,
   "metadata": {},
   "outputs": [],
   "source": [
    "import matplotlib\n",
    "import os              # This provides several system utilities\n",
    "import pandas as pd    # This is the workhorse of data munging in Python\n",
    "import numpy as np     # This is for general numerical operations \n",
    "import seaborn as sns  # This allows us to efficiently and beautifully plot\n",
    "import os              # This provides several system utilities"
   ]
  },
  {
   "cell_type": "code",
   "execution_count": null,
   "metadata": {},
   "outputs": [],
   "source": []
  },
  {
   "cell_type": "markdown",
   "metadata": {},
   "source": [
    "\n",
    "## Question 2\n",
    "a) Save the csv file to your compluter and Load the data in Tab \"TOTAL Casualties\".\n",
    "\n",
    "b) Display the first 5 rows of the dataset using .head().\n",
    "\n",
    "c) Extract the column names and create a dictionary where each column name is the key, and the first value in that column is the value."
   ]
  },
  {
   "cell_type": "code",
   "execution_count": 24,
   "metadata": {},
   "outputs": [
    {
     "data": {
      "text/html": [
       "<div>\n",
       "<style scoped>\n",
       "    .dataframe tbody tr th:only-of-type {\n",
       "        vertical-align: middle;\n",
       "    }\n",
       "\n",
       "    .dataframe tbody tr th {\n",
       "        vertical-align: top;\n",
       "    }\n",
       "\n",
       "    .dataframe thead th {\n",
       "        text-align: right;\n",
       "    }\n",
       "</style>\n",
       "<table border=\"1\" class=\"dataframe\">\n",
       "  <thead>\n",
       "    <tr style=\"text-align: right;\">\n",
       "      <th></th>\n",
       "      <th>Year</th>\n",
       "      <th>Month</th>\n",
       "      <th>Taliban</th>\n",
       "      <th>Civilians</th>\n",
       "      <th>Afghan forces</th>\n",
       "      <th>Nato (detailed in spreadsheet)</th>\n",
       "      <th>Nato - official figures</th>\n",
       "      <th>Total casualties</th>\n",
       "    </tr>\n",
       "  </thead>\n",
       "  <tbody>\n",
       "    <tr>\n",
       "      <th>0</th>\n",
       "      <td>2004</td>\n",
       "      <td>January</td>\n",
       "      <td>15.0</td>\n",
       "      <td>51</td>\n",
       "      <td>23.0</td>\n",
       "      <td>0.0</td>\n",
       "      <td>11</td>\n",
       "      <td>100.0</td>\n",
       "    </tr>\n",
       "    <tr>\n",
       "      <th>1</th>\n",
       "      <td>2004</td>\n",
       "      <td>February</td>\n",
       "      <td>0.0</td>\n",
       "      <td>7</td>\n",
       "      <td>4.0</td>\n",
       "      <td>5.0</td>\n",
       "      <td>2</td>\n",
       "      <td>13.0</td>\n",
       "    </tr>\n",
       "    <tr>\n",
       "      <th>2</th>\n",
       "      <td>2004</td>\n",
       "      <td>March</td>\n",
       "      <td>19.0</td>\n",
       "      <td>2</td>\n",
       "      <td>0.0</td>\n",
       "      <td>2.0</td>\n",
       "      <td>3</td>\n",
       "      <td>24.0</td>\n",
       "    </tr>\n",
       "    <tr>\n",
       "      <th>3</th>\n",
       "      <td>2004</td>\n",
       "      <td>April</td>\n",
       "      <td>5.0</td>\n",
       "      <td>3</td>\n",
       "      <td>19.0</td>\n",
       "      <td>0.0</td>\n",
       "      <td>3</td>\n",
       "      <td>30.0</td>\n",
       "    </tr>\n",
       "    <tr>\n",
       "      <th>4</th>\n",
       "      <td>2004</td>\n",
       "      <td>May</td>\n",
       "      <td>18.0</td>\n",
       "      <td>29</td>\n",
       "      <td>56.0</td>\n",
       "      <td>6.0</td>\n",
       "      <td>9</td>\n",
       "      <td>112.0</td>\n",
       "    </tr>\n",
       "  </tbody>\n",
       "</table>\n",
       "</div>"
      ],
      "text/plain": [
       "   Year     Month  Taliban  Civilians  Afghan forces  \\\n",
       "0  2004   January     15.0         51           23.0   \n",
       "1  2004  February      0.0          7            4.0   \n",
       "2  2004     March     19.0          2            0.0   \n",
       "3  2004     April      5.0          3           19.0   \n",
       "4  2004       May     18.0         29           56.0   \n",
       "\n",
       "   Nato (detailed in spreadsheet)  Nato - official figures  Total casualties  \n",
       "0                             0.0                       11             100.0  \n",
       "1                             5.0                        2              13.0  \n",
       "2                             2.0                        3              24.0  \n",
       "3                             0.0                        3              30.0  \n",
       "4                             6.0                        9             112.0  "
      ]
     },
     "execution_count": 24,
     "metadata": {},
     "output_type": "execute_result"
    }
   ],
   "source": [
    "f = 'Assignment 2 Data/war logs.csv'\n",
    "db = pd.read_csv(f, skiprows=1)\n",
    "db.fillna(0, inplace=True)\n",
    "Total_Casualties = db['Taliban'] + db['Civilians'] + db['Afghan forces'] + db['Nato - official figures']\n",
    "db['Total casualties'] = Total_Casualties\n",
    "db.head(5)\n"
   ]
  },
  {
   "cell_type": "code",
   "execution_count": 25,
   "metadata": {},
   "outputs": [
    {
     "data": {
      "text/plain": [
       "{'Year': np.int64(2004),\n",
       " 'Month': 'January',\n",
       " 'Taliban': np.float64(15.0),\n",
       " 'Civilians': np.int64(51),\n",
       " 'Afghan forces': np.float64(23.0),\n",
       " 'Nato (detailed in spreadsheet)': np.float64(0.0),\n",
       " 'Nato - official figures': np.int64(11),\n",
       " 'Total casualties': np.float64(100.0)}"
      ]
     },
     "execution_count": 25,
     "metadata": {},
     "output_type": "execute_result"
    }
   ],
   "source": [
    "columns = db.columns\n",
    "column_dict = {col: db[col].iloc[0] for col in db.columns}\n",
    "column_dict"
   ]
  },
  {
   "cell_type": "markdown",
   "metadata": {},
   "source": [
    "## Question 3\n",
    "a) Plot a histogram of any numeric column from the dataset.\n",
    "\n",
    "b) Use a kernel density plot (KDE) to visualize the distribution of another numeric column.\n",
    "\n",
    "c) Create a bar chart of a categorical variable and discuss how the plot changes if you switch to a horizontal bar plot."
   ]
  },
  {
   "cell_type": "code",
   "execution_count": 27,
   "metadata": {},
   "outputs": [
    {
     "data": {
      "image/png": "[encoded data removed]",
      "text/plain": [
       "<Figure size 500x500 with 1 Axes>"
      ]
     },
     "metadata": {},
     "output_type": "display_data"
    }
   ],
   "source": [
    "graph_taliban = sns.displot(db['Taliban'], kde=False)\n"
   ]
  },
  {
   "cell_type": "code",
   "execution_count": 30,
   "metadata": {},
   "outputs": [
    {
     "data": {
      "image/png": "[encoded data removed]",
      "text/plain": [
       "<Figure size 640x480 with 1 Axes>"
      ]
     },
     "metadata": {},
     "output_type": "display_data"
    }
   ],
   "source": [
    "graph_civilians = sns.kdeplot(db['Civilians'], fill=True)\n"
   ]
  },
  {
   "cell_type": "code",
   "execution_count": 34,
   "metadata": {},
   "outputs": [
    {
     "data": {
      "image/png": "[encoded data removed]",
      "text/plain": [
       "<Figure size 640x480 with 1 Axes>"
      ]
     },
     "metadata": {},
     "output_type": "display_data"
    }
   ],
   "source": [
    "bar = db['Year'].sort_values(ascending=False).plot(kind='bar')"
   ]
  },
  {
   "cell_type": "markdown",
   "metadata": {},
   "source": [
    "## Question 4\n",
    "a) Write a loop that iterates through each row of a DataFrame and prints the value of one specific column.\n",
    "\n",
    "b) Modify the loop so that it extracts rows where a numeric column value is greater than a threshold and stores these rows in a new DataFrame."
   ]
  },
  {
   "cell_type": "code",
   "execution_count": 47,
   "metadata": {},
   "outputs": [
    {
     "ename": "TypeError",
     "evalue": "type 'float' is not subscriptable",
     "output_type": "error",
     "traceback": [
      "\u001b[0;31m---------------------------------------------------------------------------\u001b[0m",
      "\u001b[0;31mTypeError\u001b[0m                                 Traceback (most recent call last)",
      "Cell \u001b[0;32mIn[47], line 2\u001b[0m\n\u001b[1;32m      1\u001b[0m \u001b[38;5;28;01mfor\u001b[39;00m row \u001b[38;5;129;01min\u001b[39;00m db:\n\u001b[0;32m----> 2\u001b[0m     \u001b[38;5;28mprint\u001b[39m(row (\u001b[38;5;28;43mfloat\u001b[39;49m\u001b[43m[\u001b[49m\u001b[38;5;124;43m'\u001b[39;49m\u001b[38;5;124;43mTaliban\u001b[39;49m\u001b[38;5;124;43m'\u001b[39;49m\u001b[43m]\u001b[49m))\n",
      "\u001b[0;31mTypeError\u001b[0m: type 'float' is not subscriptable"
     ]
    }
   ],
   "source": [
    "for row in db:\n",
    "    print(row (float['Taliban']))"
   ]
  },
  {
   "cell_type": "markdown",
   "metadata": {},
   "source": [
    "## Question 5\n",
    "a) Crate a list containing the names \"Civilians\" and \"Afghan forces\"\n",
    "\n",
    "b) From the imported data keep the the values from these two columns only. Keep in mind that \"Year\" and \"Month\" identify each column and sould remain in the dataset.\n",
    "\n",
    "c) Obtain a monthly total count of casualties for these two groups and create a line and a bar plot of them.\n"
   ]
  },
  {
   "cell_type": "code",
   "execution_count": 83,
   "metadata": {},
   "outputs": [
    {
     "data": {
      "text/html": [
       "<div>\n",
       "<style scoped>\n",
       "    .dataframe tbody tr th:only-of-type {\n",
       "        vertical-align: middle;\n",
       "    }\n",
       "\n",
       "    .dataframe tbody tr th {\n",
       "        vertical-align: top;\n",
       "    }\n",
       "\n",
       "    .dataframe thead th {\n",
       "        text-align: right;\n",
       "    }\n",
       "</style>\n",
       "<table border=\"1\" class=\"dataframe\">\n",
       "  <thead>\n",
       "    <tr style=\"text-align: right;\">\n",
       "      <th></th>\n",
       "      <th>date</th>\n",
       "      <th>Civilians</th>\n",
       "      <th>Afghan forces</th>\n",
       "    </tr>\n",
       "  </thead>\n",
       "  <tbody>\n",
       "    <tr>\n",
       "      <th>0</th>\n",
       "      <td>2004 January</td>\n",
       "      <td>51</td>\n",
       "      <td>23.0</td>\n",
       "    </tr>\n",
       "    <tr>\n",
       "      <th>1</th>\n",
       "      <td>2004 February</td>\n",
       "      <td>7</td>\n",
       "      <td>4.0</td>\n",
       "    </tr>\n",
       "    <tr>\n",
       "      <th>2</th>\n",
       "      <td>2004 March</td>\n",
       "      <td>2</td>\n",
       "      <td>0.0</td>\n",
       "    </tr>\n",
       "    <tr>\n",
       "      <th>3</th>\n",
       "      <td>2004 April</td>\n",
       "      <td>3</td>\n",
       "      <td>19.0</td>\n",
       "    </tr>\n",
       "    <tr>\n",
       "      <th>4</th>\n",
       "      <td>2004 May</td>\n",
       "      <td>29</td>\n",
       "      <td>56.0</td>\n",
       "    </tr>\n",
       "    <tr>\n",
       "      <th>...</th>\n",
       "      <td>...</td>\n",
       "      <td>...</td>\n",
       "      <td>...</td>\n",
       "    </tr>\n",
       "    <tr>\n",
       "      <th>67</th>\n",
       "      <td>2009 August</td>\n",
       "      <td>206</td>\n",
       "      <td>190.0</td>\n",
       "    </tr>\n",
       "    <tr>\n",
       "      <th>68</th>\n",
       "      <td>2009 September</td>\n",
       "      <td>197</td>\n",
       "      <td>133.0</td>\n",
       "    </tr>\n",
       "    <tr>\n",
       "      <th>69</th>\n",
       "      <td>2009 October</td>\n",
       "      <td>107</td>\n",
       "      <td>86.0</td>\n",
       "    </tr>\n",
       "    <tr>\n",
       "      <th>70</th>\n",
       "      <td>2009 November</td>\n",
       "      <td>120</td>\n",
       "      <td>69.0</td>\n",
       "    </tr>\n",
       "    <tr>\n",
       "      <th>71</th>\n",
       "      <td>2009 December</td>\n",
       "      <td>87</td>\n",
       "      <td>65.0</td>\n",
       "    </tr>\n",
       "  </tbody>\n",
       "</table>\n",
       "<p>72 rows × 3 columns</p>\n",
       "</div>"
      ],
      "text/plain": [
       "              date  Civilians  Afghan forces\n",
       "0     2004 January         51           23.0\n",
       "1    2004 February          7            4.0\n",
       "2       2004 March          2            0.0\n",
       "3       2004 April          3           19.0\n",
       "4         2004 May         29           56.0\n",
       "..             ...        ...            ...\n",
       "67     2009 August        206          190.0\n",
       "68  2009 September        197          133.0\n",
       "69    2009 October        107           86.0\n",
       "70   2009 November        120           69.0\n",
       "71   2009 December         87           65.0\n",
       "\n",
       "[72 rows x 3 columns]"
      ]
     },
     "execution_count": 83,
     "metadata": {},
     "output_type": "execute_result"
    }
   ],
   "source": [
    "civ_afgf = ['Civilians','Afghan forces']\n",
    "db['date'] = db['Year'].astype(str) + ' ' + db['Month']\n",
    "included_columns = ['date','Civilians','Afghan forces']\n",
    "db_civ_afgf = db[included_columns]\n",
    "db_civ_afgf"
   ]
  },
  {
   "cell_type": "code",
   "execution_count": 87,
   "metadata": {},
   "outputs": [],
   "source": [
    "db['total'] = db['Civilians'].astype(int) + db['Afghan forces'].astype(int)\n",
    "db_civ_afgf = db[included_columns] + [db]\n",
    "monthly_totals_by_month = db\n"
   ]
  }
 ],
 "metadata": {
  "kernelspec": {
   "display_name": "Python 3 (ipykernel)",
   "language": "python",
   "name": "python3"
  },
  "language_info": {
   "codemirror_mode": {
    "name": "ipython",
    "version": 3
   },
   "file_extension": ".py",
   "mimetype": "text/x-python",
   "name": "python",
   "nbconvert_exporter": "python",
   "pygments_lexer": "ipython3",
   "version": "3.12.5"
  }
 },
 "nbformat": 4,
 "nbformat_minor": 4
}
