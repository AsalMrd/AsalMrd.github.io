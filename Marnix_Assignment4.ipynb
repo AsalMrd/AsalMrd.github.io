{
 "cells": [
  {
   "cell_type": "markdown",
   "metadata": {},
   "source": [
    "## Lab 4 - part 2: Data Weights and Autocorellation\n",
    "\n",
    "**TU Delft and WUR**<br>\n",
    "**Q1 2024**<br>\n",
    "**Instructor:** Theodoros Chatzivasileiadis <br>\n",
    "**Instructor:** Hans Hoogenboom <br>\n",
    "**TA:** Ka Yi Chua <br>\n",
    "**[Metropolitan Data 1](https://jhoogenboom.github.io/spatial-data-science/_index.html)** <br>\n",
    "\n"
   ]
  },
  {
   "cell_type": "markdown",
   "metadata": {},
   "source": [
    "## Exercise 4a: Spatial Autocorrelation and ESDA "
   ]
  },
  {
   "cell_type": "markdown",
   "metadata": {},
   "source": [
    "USE the Liverpool IMD data we have been using in previous sessions. This will require you to:\n",
    "\n",
    "* Load up the IMD dataset for Liverpool.\n",
    "* Create a choropleth of the `imd_score` variable.\n",
    "* Compute the spatial weights matrix for the LSOAs. Think of one criterium to build it that you think would fit this variable (e.g. contiguity, distance-based, etc.), and apply it.\n",
    "* Create the standardized version of the IMD scores.\n",
    "* Calculate the spatial lag of the standardized scores.\n",
    "* Create the Moran Plot.\n",
    "* Calculate the value of Moran's I as well as its significance level.\n",
    "* Perform a LISA analysis and generate a map of the results. What are the main patterns?"
   ]
  },
  {
   "cell_type": "code",
   "execution_count": 3,
   "metadata": {},
   "outputs": [],
   "source": [
    "# your code here\n"
   ]
  },
  {
   "cell_type": "markdown",
   "metadata": {},
   "source": [
    "For this part I would like you to experiment with Data from Amstedam. However this will require you to find the dataset yourself!\n",
    "\n",
    "## Question 1: Building a Contiguity-Based Weight Matrix\n",
    "\n",
    "Use PySAL to create a contiguity-based weight matrix (W) for a given spatial dataset of polygons. Write a function create_contiguity_weights that:\n",
    "\n",
    "    Reads in a shapefile of polygons.\n",
    "    Constructs a Queen contiguity-based spatial weights matrix.\n",
    "    Returns the weight matrix.\n",
    "\n",
    "## Question 2: Calculating Moran’s I\n",
    "\n",
    "Write a function calculate_morans_i that:\n",
    "\n",
    "    Takes a spatial weight matrix W and an attribute array y.\n",
    "    Calculates Moran’s I for the given attribute array.\n",
    "    Returns the Moran’s I value and its p-value.\n",
    "\n",
    "## Question 3: Standardizing Spatial Weight Matrices\n",
    "\n",
    "Create a function standardize_weights that:\n",
    "\n",
    "    Takes a spatial weight matrix W.\n",
    "    Standardizes it so that the weights of each row sum to one.\n",
    "    Returns the standardized weight matrix.\n",
    "\n",
    "## Question 4: Creating Distance-Based Weights\n",
    "\n",
    "Write a function create_distance_weights that:\n",
    "\n",
    "    Takes a set of point coordinates and a threshold distance.\n",
    "    Constructs a distance-based spatial weight matrix where all points within the threshold distance are assigned a weight.\n",
    "    Returns the weight matrix.\n",
    "\n",
    "## Question 5: Visualizing a Moran Plot\n",
    "\n",
    "Using PySAL, write a function plot_moran that:\n",
    "\n",
    "    Takes a spatial weights matrix W and an attribute array y.\n",
    "    Creates and displays a Moran plot for the attribute.\n",
    "    Saves the Moran plot as an image file."
   ]
  },
  {
   "cell_type": "code",
   "execution_count": 34,
   "metadata": {},
   "outputs": [],
   "source": [
    "%matplotlib inline\n",
    "\n",
    "import seaborn as sns\n",
    "import pandas as pd\n",
    "import pysal as ps\n",
    "from pysal.lib import weights\n",
    "from libpysal.io import open as psopen\n",
    "from pysal.explore import esda\n",
    "import geopandas as gpd\n",
    "import numpy as np\n",
    "import matplotlib.pyplot as plt\n",
    "import random"
   ]
  },
  {
   "cell_type": "markdown",
   "metadata": {},
   "source": [
    "### Ex 1"
   ]
  },
  {
   "cell_type": "code",
   "execution_count": 63,
   "metadata": {},
   "outputs": [],
   "source": [
    "imd_shp = 'C:/Users/marni/Documents/MADE/Data 1/Labs/Labs/data/DenHaag/neighborhoods.shp'\n",
    "imd = gpd.read_file(imd_shp)\n",
    "\n",
    "def create_contiguity_weights(path):\n",
    "    # Read in the file\n",
    "    imd = gpd.read_file(path)\n",
    "    #create weight matrix\n",
    "    w_queen = weights.Queen.from_dataframe(imd, ids=\"neighb_cbs\")\n",
    "    return w_queen\n",
    "\n",
    "w_queen = create_contiguity_weights(imd_shp)\n"
   ]
  },
  {
   "cell_type": "markdown",
   "metadata": {},
   "source": [
    "### Ex 2"
   ]
  },
  {
   "cell_type": "code",
   "execution_count": 41,
   "metadata": {},
   "outputs": [
    {
     "data": {
      "text/plain": [
       "(np.float64(0.06900920536963005), np.float64(0.093))"
      ]
     },
     "execution_count": 41,
     "metadata": {},
     "output_type": "execute_result"
    }
   ],
   "source": [
    "attribute = [random.randint(0,300) for i in range(len(imd))]\n",
    "\n",
    "def calculate_morans_i(W, y):\n",
    "    mi = esda.Moran(y, W)\n",
    "    morans_I = mi.I\n",
    "    pval = mi.p_sim\n",
    "    return morans_I, pval\n",
    "\n",
    "calculate_morans_i(w_queen, attribute)\n"
   ]
  },
  {
   "cell_type": "markdown",
   "metadata": {},
   "source": [
    "### Ex 3"
   ]
  },
  {
   "cell_type": "code",
   "execution_count": 43,
   "metadata": {},
   "outputs": [],
   "source": [
    "def standardize_weights(W):\n",
    "    W.transform = 'R'\n",
    "    return W\n",
    "\n",
    "w_queen_stand = standardize_weights(w_queen)"
   ]
  },
  {
   "cell_type": "markdown",
   "metadata": {},
   "source": [
    "### Ex 4"
   ]
  },
  {
   "cell_type": "code",
   "execution_count": 62,
   "metadata": {},
   "outputs": [
    {
     "data": {
      "text/plain": [
       "<libpysal.weights.distance.DistanceBand at 0x1dae7dc2c30>"
      ]
     },
     "execution_count": 62,
     "metadata": {},
     "output_type": "execute_result"
    }
   ],
   "source": [
    "def create_distance_weights(coords, treshold):\n",
    "    W_dist = weights.DistanceBand.from_dataframe(coords, treshold)\n",
    "    return W_dist\n",
    "\n",
    "create_distance_weights(imd, 0.03)"
   ]
  },
  {
   "cell_type": "markdown",
   "metadata": {},
   "source": [
    "### Ex 5"
   ]
  },
  {
   "cell_type": "code",
   "execution_count": null,
   "metadata": {},
   "outputs": [],
   "source": [
    "def plot_moran():"
   ]
  },
  {
   "cell_type": "code",
   "execution_count": 47,
   "metadata": {},
   "outputs": [
    {
     "data": {
      "text/plain": [
       "0         Oostduinen\n",
       "1      Belgisch Park\n",
       "2      Westbroekpark\n",
       "3          Duttendel\n",
       "4        Nassaubuurt\n",
       "           ...      \n",
       "109      De Rivieren\n",
       "110         De Lanen\n",
       "111        De Velden\n",
       "112        De Vissen\n",
       "113        Rietbuurt\n",
       "Name: neighb_cbs, Length: 114, dtype: object"
      ]
     },
     "execution_count": 47,
     "metadata": {},
     "output_type": "execute_result"
    }
   ],
   "source": [
    "imd['neighb_cbs']"
   ]
  },
  {
   "cell_type": "code",
   "execution_count": null,
   "metadata": {},
   "outputs": [],
   "source": []
  }
 ],
 "metadata": {
  "kernelspec": {
   "display_name": "Python 3 (ipykernel)",
   "language": "python",
   "name": "python3"
  },
  "language_info": {
   "codemirror_mode": {
    "name": "ipython",
    "version": 3
   },
   "file_extension": ".py",
   "mimetype": "text/x-python",
   "name": "python",
   "nbconvert_exporter": "python",
   "pygments_lexer": "ipython3",
   "version": "3.12.6"
  }
 },
 "nbformat": 4,
 "nbformat_minor": 4
}
