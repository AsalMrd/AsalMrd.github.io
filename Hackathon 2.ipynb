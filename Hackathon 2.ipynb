{
 "cells": [
  {
   "cell_type": "code",
   "execution_count": 24,
   "metadata": {},
   "outputs": [],
   "source": [
    "import pandas as pd\n",
    "from sklearn.model_selection import train_test_split\n",
    "from sklearn.linear_model import LinearRegression\n",
    "from sklearn.metrics import r2_score\n",
    "from sklearn.preprocessing import StandardScaler\n",
    "import statsmodels.api as sm\n",
    "from statsmodels.api import OLS\n",
    "import seaborn as sns\n",
    "import matplotlib.pyplot as plt\n",
    "import numpy as np"
   ]
  },
  {
   "cell_type": "code",
   "execution_count": 2,
   "metadata": {},
   "outputs": [],
   "source": [
    "df_housing = pd.read_excel(\"hackathon/Housing.xlsx\", usecols=[\"Area\", \"Property: Owner-occupied\"], index_col=\"Area\")\n",
    "df_income = pd.read_excel(\"hackathon/Income.xlsx\", usecols=[\"Area\", \"Mean disposable household income\"], index_col=\"Area\")\n",
    "df_population = pd.read_excel(\"hackathon/Population.xlsx\", usecols=[\"Area\", \"Population density\"], index_col=\"Area\")\n",
    "df_solar = pd.read_excel(\"hackathon/Solar panels.xlsx\", usecols=[\"Area\", \"Year\", \"nl_wp_Wonen\"], index_col=\"Area\")"
   ]
  },
  {
   "cell_type": "code",
   "execution_count": 3,
   "metadata": {},
   "outputs": [],
   "source": [
    "df_solar = df_solar.loc[df_solar[\"Year\"] == 2021]\n",
    "df_solar = df_solar.drop(columns=[\"Year\"])"
   ]
  },
  {
   "cell_type": "code",
   "execution_count": 4,
   "metadata": {},
   "outputs": [
    {
     "name": "stderr",
     "output_type": "stream",
     "text": [
      "C:\\Users\\marni\\AppData\\Local\\Temp\\ipykernel_21876\\2388291356.py:3: FutureWarning: Downcasting behavior in `replace` is deprecated and will be removed in a future version. To retain the old behavior, explicitly call `result.infer_objects(copy=False)`. To opt-in to the future behavior, set `pd.set_option('future.no_silent_downcasting', True)`\n",
      "  df = df.replace('-', 0)\n"
     ]
    },
    {
     "data": {
      "text/html": [
       "<div>\n",
       "<style scoped>\n",
       "    .dataframe tbody tr th:only-of-type {\n",
       "        vertical-align: middle;\n",
       "    }\n",
       "\n",
       "    .dataframe tbody tr th {\n",
       "        vertical-align: top;\n",
       "    }\n",
       "\n",
       "    .dataframe thead th {\n",
       "        text-align: right;\n",
       "    }\n",
       "</style>\n",
       "<table border=\"1\" class=\"dataframe\">\n",
       "  <thead>\n",
       "    <tr style=\"text-align: right;\">\n",
       "      <th></th>\n",
       "      <th>Property: Owner-occupied</th>\n",
       "      <th>Mean disposable household income</th>\n",
       "      <th>Population density</th>\n",
       "      <th>nl_wp_Wonen</th>\n",
       "    </tr>\n",
       "    <tr>\n",
       "      <th>Area</th>\n",
       "      <th></th>\n",
       "      <th></th>\n",
       "      <th></th>\n",
       "      <th></th>\n",
       "    </tr>\n",
       "  </thead>\n",
       "  <tbody>\n",
       "    <tr>\n",
       "      <th>Sloterdijk Nieuw-West</th>\n",
       "      <td>5</td>\n",
       "      <td>25000</td>\n",
       "      <td>121</td>\n",
       "      <td>129510.0</td>\n",
       "    </tr>\n",
       "    <tr>\n",
       "      <th>Coenhaven/Minervahaven</th>\n",
       "      <td>5</td>\n",
       "      <td>0</td>\n",
       "      <td>0</td>\n",
       "      <td>0.0</td>\n",
       "    </tr>\n",
       "    <tr>\n",
       "      <th>Amstel III/Bullewijk</th>\n",
       "      <td>6</td>\n",
       "      <td>29600</td>\n",
       "      <td>334</td>\n",
       "      <td>398248.0</td>\n",
       "    </tr>\n",
       "    <tr>\n",
       "      <th>Sloterdijk-West</th>\n",
       "      <td>18</td>\n",
       "      <td>53000</td>\n",
       "      <td>427</td>\n",
       "      <td>31068.0</td>\n",
       "    </tr>\n",
       "    <tr>\n",
       "      <th>Noordelijke IJ-oevers-Oost</th>\n",
       "      <td>24</td>\n",
       "      <td>32200</td>\n",
       "      <td>363</td>\n",
       "      <td>99668.0</td>\n",
       "    </tr>\n",
       "    <tr>\n",
       "      <th>...</th>\n",
       "      <td>...</td>\n",
       "      <td>...</td>\n",
       "      <td>...</td>\n",
       "      <td>...</td>\n",
       "    </tr>\n",
       "    <tr>\n",
       "      <th>Middenmeer</th>\n",
       "      <td>2925</td>\n",
       "      <td>63300</td>\n",
       "      <td>5661</td>\n",
       "      <td>1441733.0</td>\n",
       "    </tr>\n",
       "    <tr>\n",
       "      <th>De Aker</th>\n",
       "      <td>2946</td>\n",
       "      <td>54900</td>\n",
       "      <td>9645</td>\n",
       "      <td>2643576.0</td>\n",
       "    </tr>\n",
       "    <tr>\n",
       "      <th>Sloten/Nieuw-Sloten</th>\n",
       "      <td>3029</td>\n",
       "      <td>55700</td>\n",
       "      <td>3086</td>\n",
       "      <td>3343607.0</td>\n",
       "    </tr>\n",
       "    <tr>\n",
       "      <th>Jordaan</th>\n",
       "      <td>3236</td>\n",
       "      <td>46700</td>\n",
       "      <td>23298</td>\n",
       "      <td>276128.0</td>\n",
       "    </tr>\n",
       "    <tr>\n",
       "      <th>Oostelijk Havengebied</th>\n",
       "      <td>3567</td>\n",
       "      <td>59900</td>\n",
       "      <td>12420</td>\n",
       "      <td>2073053.0</td>\n",
       "    </tr>\n",
       "  </tbody>\n",
       "</table>\n",
       "<p>103 rows × 4 columns</p>\n",
       "</div>"
      ],
      "text/plain": [
       "                            Property: Owner-occupied  \\\n",
       "Area                                                   \n",
       "Sloterdijk Nieuw-West                              5   \n",
       "Coenhaven/Minervahaven                             5   \n",
       "Amstel III/Bullewijk                               6   \n",
       "Sloterdijk-West                                   18   \n",
       "Noordelijke IJ-oevers-Oost                        24   \n",
       "...                                              ...   \n",
       "Middenmeer                                      2925   \n",
       "De Aker                                         2946   \n",
       "Sloten/Nieuw-Sloten                             3029   \n",
       "Jordaan                                         3236   \n",
       "Oostelijk Havengebied                           3567   \n",
       "\n",
       "                            Mean disposable household income  \\\n",
       "Area                                                           \n",
       "Sloterdijk Nieuw-West                                  25000   \n",
       "Coenhaven/Minervahaven                                     0   \n",
       "Amstel III/Bullewijk                                   29600   \n",
       "Sloterdijk-West                                        53000   \n",
       "Noordelijke IJ-oevers-Oost                             32200   \n",
       "...                                                      ...   \n",
       "Middenmeer                                             63300   \n",
       "De Aker                                                54900   \n",
       "Sloten/Nieuw-Sloten                                    55700   \n",
       "Jordaan                                                46700   \n",
       "Oostelijk Havengebied                                  59900   \n",
       "\n",
       "                            Population density  nl_wp_Wonen  \n",
       "Area                                                         \n",
       "Sloterdijk Nieuw-West                      121     129510.0  \n",
       "Coenhaven/Minervahaven                       0          0.0  \n",
       "Amstel III/Bullewijk                       334     398248.0  \n",
       "Sloterdijk-West                            427      31068.0  \n",
       "Noordelijke IJ-oevers-Oost                 363      99668.0  \n",
       "...                                        ...          ...  \n",
       "Middenmeer                                5661    1441733.0  \n",
       "De Aker                                   9645    2643576.0  \n",
       "Sloten/Nieuw-Sloten                       3086    3343607.0  \n",
       "Jordaan                                  23298     276128.0  \n",
       "Oostelijk Havengebied                    12420    2073053.0  \n",
       "\n",
       "[103 rows x 4 columns]"
      ]
     },
     "execution_count": 4,
     "metadata": {},
     "output_type": "execute_result"
    }
   ],
   "source": [
    "df = pd.concat([df_housing, df_income, df_population, df_solar], axis=1)\n",
    "df = df.dropna()\n",
    "df = df.replace('-', 0)\n",
    "df.sort_values(by=['Property: Owner-occupied'])"
   ]
  },
  {
   "cell_type": "code",
   "execution_count": 5,
   "metadata": {},
   "outputs": [
    {
     "data": {
      "text/plain": [
       "Property: Owner-occupied              int64\n",
       "Mean disposable household income      int64\n",
       "Population density                    int64\n",
       "nl_wp_Wonen                         float64\n",
       "dtype: object"
      ]
     },
     "execution_count": 5,
     "metadata": {},
     "output_type": "execute_result"
    }
   ],
   "source": [
    "df.astype({'Mean disposable household income': 'int64', 'Population density': 'int64'}).dtypes\n",
    "df.dtypes"
   ]
  },
  {
   "cell_type": "code",
   "execution_count": 6,
   "metadata": {},
   "outputs": [],
   "source": [
    "train_df, test_df = train_test_split(df, test_size=0.2)"
   ]
  },
  {
   "cell_type": "code",
   "execution_count": 9,
   "metadata": {},
   "outputs": [],
   "source": [
    "# creating a regression model with sklearn\n",
    "x_train_hos = train_df[['Property: Owner-occupied']].copy()\n",
    "x_train_income = train_df[['Mean disposable household income']].copy()\n",
    "x_train_density = train_df[['Population density']].copy()\n",
    "x_test_hos = test_df[['Property: Owner-occupied']].copy()\n",
    "x_test_income = test_df[['Mean disposable household income']].copy()\n",
    "x_test_density = test_df[['Population density']].copy()\n",
    "\n",
    "y_train = train_df['nl_wp_Wonen'].copy()\n",
    "y_test = test_df['nl_wp_Wonen'].copy()\n",
    "\n",
    "model_hos = LinearRegression().fit(x_train_hos,y_train)\n",
    "model_income = LinearRegression().fit(x_train_income,y_train)\n",
    "model_density = LinearRegression().fit(x_train_density,y_train)"
   ]
  },
  {
   "cell_type": "code",
   "execution_count": 20,
   "metadata": {},
   "outputs": [
    {
     "name": "stdout",
     "output_type": "stream",
     "text": [
      "The r2 score for home ownership univariate model =0.16605454741410075\n",
      "The r2 score for income univariate model =-0.19072238330610025\n",
      "The r2 score for population density univariate model =-0.02100719045259658\n"
     ]
    }
   ],
   "source": [
    "#scoring the models\n",
    "print(f\"The r2 score for home ownership univariate model ={model_hos.score(x_test_hos, y_test)}\")\n",
    "print(f\"The r2 score for income univariate model ={model_income.score(x_test_income, y_test)}\")\n",
    "print(f\"The r2 score for population density univariate model ={model_density.score(x_test_density, y_test)}\")"
   ]
  },
  {
   "cell_type": "code",
   "execution_count": null,
   "metadata": {},
   "outputs": [],
   "source": []
  },
  {
   "cell_type": "code",
   "execution_count": 49,
   "metadata": {},
   "outputs": [
    {
     "data": {
      "text/plain": [
       "<matplotlib.collections.PathCollection at 0x1d4823547d0>"
      ]
     },
     "execution_count": 49,
     "metadata": {},
     "output_type": "execute_result"
    },
    {
     "data": {
      "image/png": "[encoded data removed]",
      "text/plain": [
       "<Figure size 640x480 with 1 Axes>"
      ]
     },
     "metadata": {},
     "output_type": "display_data"
    }
   ],
   "source": [
    "prediction = model_hos.predict(x_train_hos)\n",
    "plt.plot(x_train_hos['Property: Owner-occupied'],prediction, color='k', label=\"Prediction\")\n",
    "plt.scatter(x_train_hos, y_train, label=\"Test Data\")"
   ]
  },
  {
   "cell_type": "code",
   "execution_count": 48,
   "metadata": {},
   "outputs": [
    {
     "data": {
      "text/plain": [
       "<matplotlib.collections.PathCollection at 0x1d482386600>"
      ]
     },
     "execution_count": 48,
     "metadata": {},
     "output_type": "execute_result"
    },
    {
     "data": {
      "image/png": "[encoded data removed]",
      "text/plain": [
       "<Figure size 640x480 with 1 Axes>"
      ]
     },
     "metadata": {},
     "output_type": "display_data"
    }
   ],
   "source": [
    "prediction = model_income.predict(x_train_income)\n",
    "plt.plot(x_train_income['Mean disposable household income'],prediction, color='k', label=\"Prediction\")\n",
    "plt.scatter(x_train_income, y_train, label=\"Test Data\")"
   ]
  },
  {
   "cell_type": "code",
   "execution_count": 51,
   "metadata": {},
   "outputs": [
    {
     "data": {
      "text/plain": [
       "<matplotlib.collections.PathCollection at 0x1d4822e0380>"
      ]
     },
     "execution_count": 51,
     "metadata": {},
     "output_type": "execute_result"
    },
    {
     "data": {
      "image/png": "[encoded data removed]",
      "text/plain": [
       "<Figure size 640x480 with 1 Axes>"
      ]
     },
     "metadata": {},
     "output_type": "display_data"
    }
   ],
   "source": [
    "prediction = model_density.predict(x_train_density)\n",
    "plt.plot(x_train_density['Population density'],prediction, color='k', label=\"Prediction\")\n",
    "plt.scatter(x_train_density, y_train, label=\"Test Data\")\n",
    "plt.title()"
   ]
  },
  {
   "cell_type": "code",
   "execution_count": null,
   "metadata": {},
   "outputs": [],
   "source": []
  },
  {
   "cell_type": "code",
   "execution_count": null,
   "metadata": {},
   "outputs": [],
   "source": []
  }
 ],
 "metadata": {
  "kernelspec": {
   "display_name": "mdenv",
   "language": "python",
   "name": "python3"
  },
  "language_info": {
   "codemirror_mode": {
    "name": "ipython",
    "version": 3
   },
   "file_extension": ".py",
   "mimetype": "text/x-python",
   "name": "python",
   "nbconvert_exporter": "python",
   "pygments_lexer": "ipython3",
   "version": "3.12.6"
  }
 },
 "nbformat": 4,
 "nbformat_minor": 2
}
