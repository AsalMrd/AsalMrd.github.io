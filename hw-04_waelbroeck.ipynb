{
 "cells": [
  {
   "cell_type": "markdown",
   "metadata": {},
   "source": [
    "## Lab 4 - part 2: Data Weights and Autocorellation\n",
    "\n",
    "**TU Delft and WUR**<br>\n",
    "**Q1 2024**<br>\n",
    "**Instructor:** Theodoros Chatzivasileiadis <br>\n",
    "**Instructor:** Hans Hoogenboom <br>\n",
    "**TA:** Ka Yi Chua <br>\n",
    "**[Metropolitan Data 1](https://jhoogenboom.github.io/spatial-data-science/_index.html)** <br>\n",
    "\n"
   ]
  },
  {
   "cell_type": "markdown",
   "metadata": {},
   "source": [
    "## Exercise 4a: Spatial Autocorrelation and ESDA "
   ]
  },
  {
   "cell_type": "markdown",
   "metadata": {},
   "source": [
    "USE the Liverpool IMD data we have been using in previous sessions. This will require you to:\n",
    "\n",
    "* Load up the IMD dataset for Liverpool.\n",
    "* Create a choropleth of the `imd_score` variable.\n",
    "* Compute the spatial weights matrix for the LSOAs. Think of one criterium to build it that you think would fit this variable (e.g. contiguity, distance-based, etc.), and apply it.\n",
    "* Create the standardized version of the IMD scores.\n",
    "* Calculate the spatial lag of the standardized scores.\n",
    "* Create the Moran Plot.\n",
    "* Calculate the value of Moran's I as well as its significance level.\n",
    "* Perform a LISA analysis and generate a map of the results. What are the main patterns?"
   ]
  },
  {
   "cell_type": "markdown",
   "metadata": {},
   "source": [
    "## BASICS\n",
    "\n",
    "Make sure we have all the tools we need"
   ]
  },
  {
   "cell_type": "code",
   "execution_count": 1,
   "metadata": {},
   "outputs": [
    {
     "name": "stderr",
     "output_type": "stream",
     "text": [
      "c:\\Users\\natha\\AppData\\Local\\Programs\\Python\\Python312\\Lib\\site-packages\\spaghetti\\network.py:41: FutureWarning: The next major release of pysal/spaghetti (2.0.0) will drop support for all ``libpysal.cg`` geometries. This change is a first step in refactoring ``spaghetti`` that is expected to result in dramatically reduced runtimes for network instantiation and operations. Users currently requiring network and point pattern input as ``libpysal.cg`` geometries should prepare for this simply by converting to ``shapely`` geometries.\n",
      "  warnings.warn(dep_msg, FutureWarning, stacklevel=1)\n",
      "c:\\Users\\natha\\AppData\\Local\\Programs\\Python\\Python312\\Lib\\site-packages\\tqdm\\auto.py:21: TqdmWarning: IProgress not found. Please update jupyter and ipywidgets. See https://ipywidgets.readthedocs.io/en/stable/user_install.html\n",
      "  from .autonotebook import tqdm as notebook_tqdm\n"
     ]
    }
   ],
   "source": [
    "# make sure we have all the plug ins I need for the exercises.\n",
    "\n",
    "%matplotlib inline\n",
    "import seaborn as sns\n",
    "import pandas as pd\n",
    "import pysal as ps\n",
    "from pysal.explore import esda\n",
    "from pysal.lib import weights\n",
    "from libpysal.io import open as psopen\n",
    "import geopandas as gpd\n",
    "import numpy as np\n",
    "import matplotlib.pyplot as plt\n",
    "\n",
    "from splot.esda import moran_scatterplot, lisa_cluster, plot_local_autocorrelation\n",
    "import contextily as ctx"
   ]
  },
  {
   "cell_type": "markdown",
   "metadata": {},
   "source": [
    "## Question 1: Build a Contiguity-Based Weight Matrix\n",
    "\n",
    "I modified my code to be more similar to Marnix's. I had done all of these steps, but I hadn't defined a function."
   ]
  },
  {
   "cell_type": "code",
   "execution_count": 2,
   "metadata": {},
   "outputs": [
    {
     "name": "stderr",
     "output_type": "stream",
     "text": [
      "C:\\Users\\natha\\AppData\\Local\\Temp\\ipykernel_9736\\1117236640.py:10: FutureWarning: `idVariable` is deprecated and will be removed in future. Use `ids` instead.\n",
      "  w_queen = weights.Queen.from_dataframe(Liverpool, idVariable='lsoa11cd')        # construct a contiguity based weight matrix\n",
      "c:\\Users\\natha\\AppData\\Local\\Programs\\Python\\Python312\\Lib\\site-packages\\libpysal\\weights\\contiguity.py:347: UserWarning: The weights matrix is not fully connected: \n",
      " There are 8 disconnected components.\n",
      " There is 1 island with id: E01019077.\n",
      "  W.__init__(self, neighbors, ids=ids, **kw)\n"
     ]
    }
   ],
   "source": [
    "# QUESTION 1: reads in shapefile of polygons from LIVERPOOL\n",
    "\n",
    "Liverpool_imd = 'C:\\\\Users\\\\natha\\\\Downloads\\\\lab-04\\\\data\\\\IMD\\\\IMD\\\\lab04_imd.shp'\n",
    "lookup_path = 'C:\\\\Users\\\\natha\\\\Downloads\\\\lab-04\\\\data\\\\IMD\\\\IMD\\\\OAs'\n",
    "Liverpool = gpd.read_file(Liverpool_imd).set_index('lsoa11cd', drop=False)  # so we can access the data quickly later\n",
    "\n",
    "def Contiguity_Matrix(path):                                                        # define a function that creates a contiguity based weight matrix with a file path\n",
    "    Liverpool = gpd.read_file(Liverpool_imd).set_index('lsoa11cd', drop=False)      # read Liverpool data and set the index\n",
    "    w_queen = weights.Queen.from_dataframe(Liverpool, idVariable='lsoa11cd')        # construct a contiguity based weight matrix\n",
    "    return w_queen                                                                  # return the functions\n",
    "\n",
    "w_queen = Contiguity_Matrix(Liverpool_imd)"
   ]
  },
  {
   "cell_type": "code",
   "execution_count": 3,
   "metadata": {},
   "outputs": [
    {
     "data": {
      "text/plain": [
       "{'E01006720': 1.0,\n",
       " 'E01006691': 1.0,\n",
       " 'E01006695': 1.0,\n",
       " 'E01006697': 1.0,\n",
       " 'E01033763': 1.0,\n",
       " 'E01006692': 1.0,\n",
       " 'E01006759': 1.0}"
      ]
     },
     "execution_count": 3,
     "metadata": {},
     "output_type": "execute_result"
    }
   ],
   "source": [
    "# QUESTION 1: Return the weight matrix\n",
    "w_queen['E01006690']"
   ]
  },
  {
   "cell_type": "markdown",
   "metadata": {},
   "source": [
    "## Drop Islands to facilitate future calculations"
   ]
  },
  {
   "cell_type": "code",
   "execution_count": 4,
   "metadata": {},
   "outputs": [],
   "source": [
    "# w_queen.islands       # I ran this to confirm if there is an island in the data\n",
    "\n",
    "Liverpool_clean = Liverpool.drop(w_queen.islands)"
   ]
  },
  {
   "cell_type": "code",
   "execution_count": 5,
   "metadata": {},
   "outputs": [
    {
     "name": "stderr",
     "output_type": "stream",
     "text": [
      "C:\\Users\\natha\\AppData\\Local\\Temp\\ipykernel_9736\\2348843082.py:2: FutureWarning: `idVariable` is deprecated and will be removed in future. Use `ids` instead.\n",
      "  w_queen = weights.Queen.from_dataframe(Liverpool_clean, idVariable='lsoa11cd')\n",
      "c:\\Users\\natha\\AppData\\Local\\Programs\\Python\\Python312\\Lib\\site-packages\\libpysal\\weights\\contiguity.py:347: UserWarning: The weights matrix is not fully connected: \n",
      " There are 7 disconnected components.\n",
      "  W.__init__(self, neighbors, ids=ids, **kw)\n"
     ]
    },
    {
     "data": {
      "text/plain": [
       "<libpysal.weights.contiguity.Queen at 0x1e181d426c0>"
      ]
     },
     "execution_count": 5,
     "metadata": {},
     "output_type": "execute_result"
    }
   ],
   "source": [
    "# Must re-calculate the weight matrix now that the island has been removed.\n",
    "w_queen = weights.Queen.from_dataframe(Liverpool_clean, idVariable='lsoa11cd')\n",
    "w_queen"
   ]
  },
  {
   "cell_type": "markdown",
   "metadata": {},
   "source": [
    "## Calculate Moran's I\n",
    "\n",
    "Asal's code - but drop the extra stuff. \n",
    "\n",
    "We decided NOT to Print Moran's I is: and Moran's P is: because if we want to do a calulation later with the result of the function, we won't be able to do future calculations."
   ]
  },
  {
   "cell_type": "code",
   "execution_count": 29,
   "metadata": {},
   "outputs": [
    {
     "name": "stdout",
     "output_type": "stream",
     "text": [
      "Moran's I is: 0.5895602570187034\n",
      "P Value is: 0.001\n"
     ]
    }
   ],
   "source": [
    "# Question 2: Calculate Moran's I\n",
    "\n",
    "# mi = esda.Moran(Liverpool_clean['IMD_Rank'], w_queen)\n",
    "# mi.I\n",
    "\n",
    "def Calculate_MoranI(W, y):\n",
    "    mi = esda.Moran(y, W)\n",
    "    morans_i_value = mi.I\n",
    "    morans_p_value = mi.p_sim\n",
    "    return morans_i_value, morans_p_value\n",
    "\n",
    "p = Calculate_MoranI(w_queen, Liverpool_clean['IMD_Rank'])\n",
    "\n",
    "print(\"Moran's I is:\", p[0])\n",
    "print(\"P Value is:\", p[1])"
   ]
  },
  {
   "cell_type": "markdown",
   "metadata": {},
   "source": [
    "## Question 3: Standardizing Spatial Matrices\n",
    "\n",
    "Modifed mine to be like Asal's and Marnix's because there's is in a function"
   ]
  },
  {
   "cell_type": "code",
   "execution_count": 30,
   "metadata": {},
   "outputs": [
    {
     "data": {
      "text/plain": [
       "<libpysal.weights.contiguity.Queen at 0x1e181d426c0>"
      ]
     },
     "execution_count": 30,
     "metadata": {},
     "output_type": "execute_result"
    }
   ],
   "source": [
    "# QUESTION 3: Standardizing Spatial Matrices\n",
    "\n",
    "# w_queen.transform = 'R'\n",
    "\n",
    "def Standardize_Spatial_Matrix(w):\n",
    "    \"\"\"\n",
    "    create a function that takes a weight matrix and creates a standardized spatal matrix.\n",
    "    \"\"\"\n",
    "    w.transform = 'R'\n",
    "    return w\n",
    "\n",
    "Standardize_Spatial_Matrix(w_queen)"
   ]
  },
  {
   "cell_type": "code",
   "execution_count": 31,
   "metadata": {},
   "outputs": [
    {
     "data": {
      "text/plain": [
       "{'E01006720': 0.14285714285714285,\n",
       " 'E01006691': 0.14285714285714285,\n",
       " 'E01006695': 0.14285714285714285,\n",
       " 'E01006697': 0.14285714285714285,\n",
       " 'E01033763': 0.14285714285714285,\n",
       " 'E01006692': 0.14285714285714285,\n",
       " 'E01006759': 0.14285714285714285}"
      ]
     },
     "execution_count": 31,
     "metadata": {},
     "output_type": "execute_result"
    }
   ],
   "source": [
    "# QUESTION 3: test to make sure the function works\n",
    "w_queen['E01006690']"
   ]
  },
  {
   "cell_type": "markdown",
   "metadata": {},
   "source": [
    "## Question 4: Distance Based Weights\n",
    "\n",
    "Take my response and make it a function, like Asal and Marnix"
   ]
  },
  {
   "cell_type": "code",
   "execution_count": 36,
   "metadata": {},
   "outputs": [],
   "source": [
    "# QUESTION 4: Distance Based Weights\n",
    "\n",
    "# w_10km_dist = weights.DistanceBand.from_dataframe(Liverpool, 1000, binary=False)\n",
    "\n",
    "def create_distance_weights(Liverpool, threshold_distance):\n",
    "    distance_weights = weights.DistanceBand.from_dataframe(Liverpool, threshold_distance, binary=False)\n",
    "    return distance_weights\n",
    "\n",
    "w_1km_dist = create_distance_weights(Liverpool, 1000)"
   ]
  },
  {
   "cell_type": "code",
   "execution_count": 37,
   "metadata": {},
   "outputs": [
    {
     "data": {
      "text/plain": [
       "{'E01006691': 0.0013256933794006658,\n",
       " 'E01006692': 0.0016882958052879748,\n",
       " 'E01006695': 0.0011204624346602458,\n",
       " 'E01006697': 0.001402472386182104,\n",
       " 'E01006720': 0.0013393372744865168,\n",
       " 'E01006725': 0.0010103380475945504,\n",
       " 'E01006726': 0.001056402257271986,\n",
       " 'E01033763': 0.0012954566504819575}"
      ]
     },
     "execution_count": 37,
     "metadata": {},
     "output_type": "execute_result"
    }
   ],
   "source": [
    "# Question 4: Test\n",
    "w_1km_dist['E01006690'] # long output - many neighbours"
   ]
  },
  {
   "cell_type": "markdown",
   "metadata": {},
   "source": [
    "## Question 5: Visualize a Moran Plot\n",
    "\n"
   ]
  },
  {
   "cell_type": "code",
   "execution_count": 40,
   "metadata": {},
   "outputs": [
    {
     "ename": "NameError",
     "evalue": "name 'attribute' is not defined",
     "output_type": "error",
     "traceback": [
      "\u001b[1;31m---------------------------------------------------------------------------\u001b[0m",
      "\u001b[1;31mNameError\u001b[0m                                 Traceback (most recent call last)",
      "Cell \u001b[1;32mIn[40], line 10\u001b[0m\n\u001b[0;32m      8\u001b[0m     sns\u001b[38;5;241m.\u001b[39mregplot(x\u001b[38;5;241m=\u001b[39mattribute_st, y\u001b[38;5;241m=\u001b[39mw_queen_score, data\u001b[38;5;241m=\u001b[39mLiverpool, ci\u001b[38;5;241m=\u001b[39m\u001b[38;5;28;01mNone\u001b[39;00m)\n\u001b[0;32m      9\u001b[0m     plt\u001b[38;5;241m.\u001b[39mshow()\n\u001b[1;32m---> 10\u001b[0m plot_moran(w_queen, \u001b[43mattribute\u001b[49m)\n",
      "\u001b[1;31mNameError\u001b[0m: name 'attribute' is not defined"
     ]
    }
   ],
   "source": [
    "def plot_moran(W, attribute):\n",
    "    # Setup the figure and axis\n",
    "    W = standardize_weights(W)\n",
    "    attribute = np.array(attribute)\n",
    "    attribute_st = (attribute - attribute.mean()) / attribute.std()\n",
    "    w_queen_score = weights.lag_spatial(W, attribute_st)\n",
    "    # Plot values\n",
    "    sns.regplot(x=attribute_st, y=w_queen_score, data=Liverpool, ci=None)\n",
    "    plt.show()\n",
    "plot_moran(w_queen, attribute)\n",
    "\n"
   ]
  },
  {
   "cell_type": "code",
   "execution_count": 45,
   "metadata": {},
   "outputs": [
    {
     "ename": "ValueError",
     "evalue": "dimension mismatch",
     "output_type": "error",
     "traceback": [
      "\u001b[1;31m---------------------------------------------------------------------------\u001b[0m",
      "\u001b[1;31mValueError\u001b[0m                                Traceback (most recent call last)",
      "Cell \u001b[1;32mIn[45], line 36\u001b[0m\n\u001b[0;32m     31\u001b[0m     plt\u001b[38;5;241m.\u001b[39mclose()\n\u001b[0;32m     34\u001b[0m \u001b[38;5;66;03m# imd is your DataFrame containing 'IMDScore'  \u001b[39;00m\n\u001b[0;32m     35\u001b[0m \u001b[38;5;66;03m# w_queen is your spatial weights matrix (e.g., from create_distance_weights)  \u001b[39;00m\n\u001b[1;32m---> 36\u001b[0m \u001b[43mplot_moran\u001b[49m\u001b[43m(\u001b[49m\u001b[43mw_queen\u001b[49m\u001b[43m,\u001b[49m\u001b[43m \u001b[49m\u001b[43mLiverpool\u001b[49m\u001b[43m[\u001b[49m\u001b[38;5;124;43m'\u001b[39;49m\u001b[38;5;124;43mIMDScore\u001b[39;49m\u001b[38;5;124;43m'\u001b[39;49m\u001b[43m]\u001b[49m\u001b[43m,\u001b[49m\u001b[43m \u001b[49m\u001b[43moutput_file\u001b[49m\u001b[38;5;241;43m=\u001b[39;49m\u001b[38;5;124;43m'\u001b[39;49m\u001b[38;5;124;43mmoran_plot.png\u001b[39;49m\u001b[38;5;124;43m'\u001b[39;49m\u001b[43m)\u001b[49m \n",
      "Cell \u001b[1;32mIn[45], line 10\u001b[0m, in \u001b[0;36mplot_moran\u001b[1;34m(W, y, output_file)\u001b[0m\n\u001b[0;32m      8\u001b[0m \u001b[38;5;66;03m# Compute the spatial lag of the standardized version  \u001b[39;00m\n\u001b[0;32m      9\u001b[0m st_w_Liverpool \u001b[38;5;241m=\u001b[39m Standardize_Spatial_Matrix(W)\n\u001b[1;32m---> 10\u001b[0m st_w_score \u001b[38;5;241m=\u001b[39m \u001b[43mweights\u001b[49m\u001b[38;5;241;43m.\u001b[39;49m\u001b[43mlag_spatial\u001b[49m\u001b[43m(\u001b[49m\u001b[43mst_w_Liverpool\u001b[49m\u001b[43m,\u001b[49m\u001b[43m \u001b[49m\u001b[43mst_Liverpool\u001b[49m\u001b[43m)\u001b[49m\n\u001b[0;32m     11\u001b[0m \u001b[38;5;66;03m# Setup the figure and axis for the Moran plot  \u001b[39;00m\n\u001b[0;32m     12\u001b[0m f, ax \u001b[38;5;241m=\u001b[39m plt\u001b[38;5;241m.\u001b[39msubplots(\u001b[38;5;241m1\u001b[39m)  \n",
      "File \u001b[1;32mc:\\Users\\natha\\AppData\\Local\\Programs\\Python\\Python312\\Lib\\site-packages\\libpysal\\weights\\spatial_lag.py:88\u001b[0m, in \u001b[0;36mlag_spatial\u001b[1;34m(w, y)\u001b[0m\n\u001b[0;32m     16\u001b[0m \u001b[38;5;28;01mdef\u001b[39;00m \u001b[38;5;21mlag_spatial\u001b[39m(w, y):\n\u001b[0;32m     17\u001b[0m \u001b[38;5;250m    \u001b[39m\u001b[38;5;124;03m\"\"\"\u001b[39;00m\n\u001b[0;32m     18\u001b[0m \u001b[38;5;124;03m    Spatial lag operator.\u001b[39;00m\n\u001b[0;32m     19\u001b[0m \n\u001b[1;32m   (...)\u001b[0m\n\u001b[0;32m     86\u001b[0m \u001b[38;5;124;03m           [6.        , 2.        ]])\u001b[39;00m\n\u001b[0;32m     87\u001b[0m \u001b[38;5;124;03m    \"\"\"\u001b[39;00m\n\u001b[1;32m---> 88\u001b[0m     \u001b[38;5;28;01mreturn\u001b[39;00m \u001b[43mw\u001b[49m\u001b[38;5;241;43m.\u001b[39;49m\u001b[43msparse\u001b[49m\u001b[43m \u001b[49m\u001b[38;5;241;43m@\u001b[39;49m\u001b[43m \u001b[49m\u001b[43my\u001b[49m\n",
      "File \u001b[1;32mc:\\Users\\natha\\AppData\\Local\\Programs\\Python\\Python312\\Lib\\site-packages\\scipy\\sparse\\_base.py:669\u001b[0m, in \u001b[0;36m_spbase.__matmul__\u001b[1;34m(self, other)\u001b[0m\n\u001b[0;32m    666\u001b[0m \u001b[38;5;28;01mif\u001b[39;00m isscalarlike(other):\n\u001b[0;32m    667\u001b[0m     \u001b[38;5;28;01mraise\u001b[39;00m \u001b[38;5;167;01mValueError\u001b[39;00m(\u001b[38;5;124m\"\u001b[39m\u001b[38;5;124mScalar operands are not allowed, \u001b[39m\u001b[38;5;124m\"\u001b[39m\n\u001b[0;32m    668\u001b[0m                      \u001b[38;5;124m\"\u001b[39m\u001b[38;5;124muse \u001b[39m\u001b[38;5;124m'\u001b[39m\u001b[38;5;124m*\u001b[39m\u001b[38;5;124m'\u001b[39m\u001b[38;5;124m instead\u001b[39m\u001b[38;5;124m\"\u001b[39m)\n\u001b[1;32m--> 669\u001b[0m \u001b[38;5;28;01mreturn\u001b[39;00m \u001b[38;5;28;43mself\u001b[39;49m\u001b[38;5;241;43m.\u001b[39;49m\u001b[43m_matmul_dispatch\u001b[49m\u001b[43m(\u001b[49m\u001b[43mother\u001b[49m\u001b[43m)\u001b[49m\n",
      "File \u001b[1;32mc:\\Users\\natha\\AppData\\Local\\Programs\\Python\\Python312\\Lib\\site-packages\\scipy\\sparse\\_base.py:598\u001b[0m, in \u001b[0;36m_spbase._matmul_dispatch\u001b[1;34m(self, other)\u001b[0m\n\u001b[0;32m    595\u001b[0m \u001b[38;5;28;01mif\u001b[39;00m other\u001b[38;5;241m.\u001b[39mndim \u001b[38;5;241m==\u001b[39m \u001b[38;5;241m1\u001b[39m \u001b[38;5;129;01mor\u001b[39;00m other\u001b[38;5;241m.\u001b[39mndim \u001b[38;5;241m==\u001b[39m \u001b[38;5;241m2\u001b[39m \u001b[38;5;129;01mand\u001b[39;00m other\u001b[38;5;241m.\u001b[39mshape[\u001b[38;5;241m1\u001b[39m] \u001b[38;5;241m==\u001b[39m \u001b[38;5;241m1\u001b[39m:\n\u001b[0;32m    596\u001b[0m     \u001b[38;5;66;03m# dense row or column vector\u001b[39;00m\n\u001b[0;32m    597\u001b[0m     \u001b[38;5;28;01mif\u001b[39;00m other\u001b[38;5;241m.\u001b[39mshape \u001b[38;5;241m!=\u001b[39m (N,) \u001b[38;5;129;01mand\u001b[39;00m other\u001b[38;5;241m.\u001b[39mshape \u001b[38;5;241m!=\u001b[39m (N, \u001b[38;5;241m1\u001b[39m):\n\u001b[1;32m--> 598\u001b[0m         \u001b[38;5;28;01mraise\u001b[39;00m \u001b[38;5;167;01mValueError\u001b[39;00m(\u001b[38;5;124m'\u001b[39m\u001b[38;5;124mdimension mismatch\u001b[39m\u001b[38;5;124m'\u001b[39m)\n\u001b[0;32m    600\u001b[0m     result \u001b[38;5;241m=\u001b[39m \u001b[38;5;28mself\u001b[39m\u001b[38;5;241m.\u001b[39m_matmul_vector(np\u001b[38;5;241m.\u001b[39mravel(other))\n\u001b[0;32m    602\u001b[0m     \u001b[38;5;28;01mif\u001b[39;00m \u001b[38;5;28misinstance\u001b[39m(other, np\u001b[38;5;241m.\u001b[39mmatrix):\n",
      "\u001b[1;31mValueError\u001b[0m: dimension mismatch"
     ]
    }
   ],
   "source": [
    "# QUESTION 5: Visualize a Moran plot\n",
    "\n",
    "def plot_moran(W, y, output_file='moran_plot.png'):\n",
    "\n",
    "  # Standardize the IMD scores  \n",
    "    st_Liverpool = (y - y.mean()) / y.std()  \n",
    "    \n",
    "    # Compute the spatial lag of the standardized version  \n",
    "    st_w_Liverpool = Standardize_Spatial_Matrix(W)\n",
    "    st_w_score = weights.lag_spatial(st_w_Liverpool, st_Liverpool)\n",
    "    # Setup the figure and axis for the Moran plot  \n",
    "    f, ax = plt.subplots(1)  \n",
    "    \n",
    "    # Plot values for the Moran plot  \n",
    "    sns.regplot(x=st_Liverpool, y=st_w_score, ax=ax, ci=None)  \n",
    "    \n",
    "    # Add vertical and horizontal lines  \n",
    "    plt.axvline(0, c='k', alpha=0.5)  \n",
    "    plt.axhline(0, c='k', alpha=0.5)  \n",
    "\n",
    "    # Set labels and title  \n",
    "    ax.set_xlabel(\"Standardized IMD Score\")  \n",
    "    ax.set_ylabel(\"Spatial Lag of Standardized IMD Score\")  \n",
    "    plt.title(\"Moran's I Plot\")  \n",
    "\n",
    "    # Display the Moran plot  \n",
    "    plt.show()  \n",
    "    \n",
    "    # Save the plot as an image file  \n",
    "    plt.savefig(output_file)  \n",
    "    plt.close()\n",
    "    \n",
    "\n",
    "# imd is your DataFrame containing 'IMDScore'  \n",
    "# w_queen is your spatial weights matrix (e.g., from create_distance_weights)  \n",
    "plot_moran(w_queen, Liverpool['IMDScore'], output_file='moran_plot.png') "
   ]
  },
  {
   "cell_type": "code",
   "execution_count": 43,
   "metadata": {},
   "outputs": [
    {
     "ename": "AttributeError",
     "evalue": "'Queen' object has no attribute 'mean'",
     "output_type": "error",
     "traceback": [
      "\u001b[1;31m---------------------------------------------------------------------------\u001b[0m",
      "\u001b[1;31mAttributeError\u001b[0m                            Traceback (most recent call last)",
      "Cell \u001b[1;32mIn[43], line 3\u001b[0m\n\u001b[0;32m      1\u001b[0m \u001b[38;5;66;03m# imd is your DataFrame containing 'IMDScore'  \u001b[39;00m\n\u001b[0;32m      2\u001b[0m \u001b[38;5;66;03m# w_queen is your spatial weights matrix (e.g., from create_distance_weights)  \u001b[39;00m\n\u001b[1;32m----> 3\u001b[0m \u001b[43mplot_moran\u001b[49m\u001b[43m(\u001b[49m\u001b[43mLiverpool\u001b[49m\u001b[43m,\u001b[49m\u001b[43m \u001b[49m\u001b[43mw_queen\u001b[49m\u001b[43m,\u001b[49m\u001b[43m \u001b[49m\u001b[43moutput_file\u001b[49m\u001b[38;5;241;43m=\u001b[39;49m\u001b[38;5;124;43m'\u001b[39;49m\u001b[38;5;124;43mmoran_plot.png\u001b[39;49m\u001b[38;5;124;43m'\u001b[39;49m\u001b[43m)\u001b[49m \n\u001b[0;32m      6\u001b[0m \u001b[38;5;66;03m# Row-standardize the queen matrix\u001b[39;00m\n\u001b[0;32m      7\u001b[0m w_queen\u001b[38;5;241m.\u001b[39mtransform \u001b[38;5;241m=\u001b[39m \u001b[38;5;124m'\u001b[39m\u001b[38;5;124mR\u001b[39m\u001b[38;5;124m'\u001b[39m\n",
      "Cell \u001b[1;32mIn[42], line 6\u001b[0m, in \u001b[0;36mplot_moran\u001b[1;34m(W, y, output_file)\u001b[0m\n\u001b[0;32m      3\u001b[0m \u001b[38;5;28;01mdef\u001b[39;00m \u001b[38;5;21mplot_moran\u001b[39m(W, y, output_file\u001b[38;5;241m=\u001b[39m\u001b[38;5;124m'\u001b[39m\u001b[38;5;124mmoran_plot.png\u001b[39m\u001b[38;5;124m'\u001b[39m):\n\u001b[0;32m      4\u001b[0m \n\u001b[0;32m      5\u001b[0m   \u001b[38;5;66;03m# Standardize the IMD scores  \u001b[39;00m\n\u001b[1;32m----> 6\u001b[0m     st_Liverpool \u001b[38;5;241m=\u001b[39m (y \u001b[38;5;241m-\u001b[39m \u001b[43my\u001b[49m\u001b[38;5;241;43m.\u001b[39;49m\u001b[43mmean\u001b[49m()) \u001b[38;5;241m/\u001b[39m y\u001b[38;5;241m.\u001b[39mstd()  \n\u001b[0;32m      8\u001b[0m     \u001b[38;5;66;03m# Compute the spatial lag of the standardized version  \u001b[39;00m\n\u001b[0;32m      9\u001b[0m     st_w_liverpool \u001b[38;5;241m=\u001b[39m Standardize_Spatial_Matrix(W)\n",
      "\u001b[1;31mAttributeError\u001b[0m: 'Queen' object has no attribute 'mean'"
     ]
    }
   ],
   "source": [
    "\n",
    "# imd is your DataFrame containing 'IMDScore'  \n",
    "# w_queen is your spatial weights matrix (e.g., from create_distance_weights)  \n",
    "plot_moran(Liverpool, w_queen, output_file='moran_plot.png') \n",
    " \n",
    "\n",
    "# Row-standardize the queen matrix\n",
    "w_queen.transform = 'R'\n",
    "# Compute spatial lag of `imd_score`\n",
    "w_queen_score = weights.lag_spatial(w_queen, Liverpool['IMDScore'])\n",
    "# Print the first five elements\n",
    "w_queen_score[:5]\n",
    "\n",
    "Liverpool['w_queen_score'] = w_queen_score\n",
    "\n",
    "# Standardize the IMD scores\n",
    "std_imd = (Liverpool['IMDScore'] - Liverpool['IMDScore'].mean()) / Liverpool['IMDScore'].std()\n",
    "# Compute the spatial lag of the standardized version and save is as a \n",
    "# Series indexed as the original variable\n",
    "std_w_imd = pd.Series(weights.lag_spatial(w_queen, std_imd), index=std_imd.index)\n",
    "# Setup the figure and axis\n",
    "f, ax = plt.subplots(1, figsize=(9, 9))\n",
    "# Plot values\n",
    "sns.regplot(x=std_imd, y=std_w_imd, ci=None)\n",
    "# Add vertical and horizontal lines\n",
    "plt.axvline(0, c='k', alpha=0.5)\n",
    "plt.axhline(0, c='k', alpha=0.5)\n",
    "# Display\n",
    "plt.show()"
   ]
  },
  {
   "cell_type": "markdown",
   "metadata": {},
   "source": [
    "For this part I would like you to experiment with Data from Amstedam. However this will require you to find the dataset yourself!\n",
    "\n",
    "## Question 1: Building a Contiguity-Based Weight Matrix\n",
    "\n",
    "Use PySAL to create a contiguity-based weight matrix (W) for a given spatial dataset of polygons. Write a function create_contiguity_weights that:\n",
    "\n",
    "    Reads in a shapefile of polygons.\n",
    "    Constructs a Queen contiguity-based spatial weights matrix.\n",
    "    Returns the weight matrix.\n",
    "\n",
    "## Question 2: Calculating Moran’s I\n",
    "\n",
    "Write a function calculate_morans_i that:\n",
    "\n",
    "    Takes a spatial weight matrix W and an attribute array y.\n",
    "    Calculates Moran’s I for the given attribute array.\n",
    "    Returns the Moran’s I value and its p-value.\n",
    "\n",
    "## Question 3: Standardizing Spatial Weight Matrices\n",
    "\n",
    "Create a function standardize_weights that:\n",
    "\n",
    "    Takes a spatial weight matrix W.\n",
    "    Standardizes it so that the weights of each row sum to one.\n",
    "    Returns the standardized weight matrix.\n",
    "\n",
    "## Question 4: Creating Distance-Based Weights\n",
    "\n",
    "Write a function create_distance_weights that:\n",
    "\n",
    "    Takes a set of point coordinates and a threshold distance.\n",
    "    Constructs a distance-based spatial weight matrix where all points within the threshold distance are assigned a weight.\n",
    "    Returns the weight matrix.\n",
    "\n",
    "## Question 5: Visualizing a Moran Plot\n",
    "\n",
    "Using PySAL, write a function plot_moran that:\n",
    "\n",
    "    Takes a spatial weights matrix W and an attribute array y.\n",
    "    Creates and displays a Moran plot for the attribute.\n",
    "    Saves the Moran plot as an image file."
   ]
  },
  {
   "cell_type": "code",
   "execution_count": 13,
   "metadata": {},
   "outputs": [],
   "source": [
    "# your code here\n"
   ]
  }
 ],
 "metadata": {
  "kernelspec": {
   "display_name": "Python 3 (ipykernel)",
   "language": "python",
   "name": "python3"
  },
  "language_info": {
   "codemirror_mode": {
    "name": "ipython",
    "version": 3
   },
   "file_extension": ".py",
   "mimetype": "text/x-python",
   "name": "python",
   "nbconvert_exporter": "python",
   "pygments_lexer": "ipython3",
   "version": "3.12.6"
  }
 },
 "nbformat": 4,
 "nbformat_minor": 4
}
