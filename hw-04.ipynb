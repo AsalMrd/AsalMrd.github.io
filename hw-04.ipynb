{
 "cells": [
  {
   "cell_type": "markdown",
   "metadata": {},
   "source": [
    "## Lab 4 - part 2: Data Weights and Autocorellation\n",
    "\n",
    "**TU Delft and WUR**<br>\n",
    "**Q1 2024**<br>\n",
    "**Instructor:** Theodoros Chatzivasileiadis <br>\n",
    "**Instructor:** Hans Hoogenboom <br>\n",
    "**TA:** Ka Yi Chua <br>\n",
    "**[Metropolitan Data 1](https://jhoogenboom.github.io/spatial-data-science/_index.html)** <br>\n",
    "\n"
   ]
  },
  {
   "cell_type": "markdown",
   "metadata": {},
   "source": [
    "## Exercise 4a: Spatial Autocorrelation and ESDA "
   ]
  },
  {
   "cell_type": "markdown",
   "metadata": {},
   "source": [
    "USE the Liverpool IMD data we have been using in previous sessions. This will require you to:\n",
    "\n",
    "* Load up the IMD dataset for Liverpool.\n",
    "* Create a choropleth of the `imd_score` variable.\n",
    "* Compute the spatial weights matrix for the LSOAs. Think of one criterium to build it that you think would fit this variable (e.g. contiguity, distance-based, etc.), and apply it.\n",
    "* Create the standardized version of the IMD scores.\n",
    "* Calculate the spatial lag of the standardized scores.\n",
    "* Create the Moran Plot.\n",
    "* Calculate the value of Moran's I as well as its significance level.\n",
    "* Perform a LISA analysis and generate a map of the results. What are the main patterns?"
   ]
  },
  {
   "cell_type": "code",
   "execution_count": 4,
   "metadata": {},
   "outputs": [],
   "source": [
    "# your code here\n"
   ]
  },
  {
   "cell_type": "markdown",
   "metadata": {},
   "source": [
    "For this part I would like you to experiment with Data from Amsterdam. However this will require you to find the dataset yourself!\n",
    "\n",
    "## Question 1: Building a Contiguity-Based Weight Matrix\n",
    "\n",
    "Use PySAL to create a contiguity-based weight matrix (W) for a given spatial dataset of polygons. Write a function create_contiguity_weights that:\n",
    "\n",
    "    Reads in a shapefile of polygons.\n",
    "    Constructs a Queen contiguity-based spatial weights matrix.\n",
    "    Returns the weight matrix."
   ]
  },
  {
   "cell_type": "code",
   "execution_count": 71,
   "metadata": {},
   "outputs": [],
   "source": [
    "#importing all the libraries required to complete the excersises\n",
    "import seaborn as sns\n",
    "import pandas as pd\n",
    "import pysal as ps\n",
    "from pysal.lib import weights\n",
    "from libpysal.io import open as psopen\n",
    "import geopandas as gpd\n",
    "import numpy as np\n",
    "import matplotlib.pyplot as plt"
   ]
  },
  {
   "cell_type": "code",
   "execution_count": 31,
   "metadata": {},
   "outputs": [
    {
     "data": {
      "text/html": [
       "<div>\n",
       "<style scoped>\n",
       "    .dataframe tbody tr th:only-of-type {\n",
       "        vertical-align: middle;\n",
       "    }\n",
       "\n",
       "    .dataframe tbody tr th {\n",
       "        vertical-align: top;\n",
       "    }\n",
       "\n",
       "    .dataframe thead th {\n",
       "        text-align: right;\n",
       "    }\n",
       "</style>\n",
       "<table border=\"1\" class=\"dataframe\">\n",
       "  <thead>\n",
       "    <tr style=\"text-align: right;\">\n",
       "      <th></th>\n",
       "      <th>GUID</th>\n",
       "      <th>SPORTPARK</th>\n",
       "      <th>FUNCTIONEE</th>\n",
       "      <th>OBJECTTYPE</th>\n",
       "      <th>TYPE_OBJEC</th>\n",
       "      <th>VELD_INDEL</th>\n",
       "      <th>JAAR_VAN_A</th>\n",
       "      <th>SPORTFUNCT</th>\n",
       "      <th>MATERIAAL</th>\n",
       "      <th>OMTREK_GIS</th>\n",
       "      <th>OPPERVLAKT</th>\n",
       "      <th>geometry</th>\n",
       "    </tr>\n",
       "  </thead>\n",
       "  <tbody>\n",
       "    <tr>\n",
       "      <th>0</th>\n",
       "      <td>{E3710BD2-A5E2-48A6-8486-B9B3F8E18FC8}</td>\n",
       "      <td>Sportpark Middenmeer-Voorland</td>\n",
       "      <td>Sportpark Middenmeer-Voorland 02</td>\n",
       "      <td>Sportveld (begroeid)</td>\n",
       "      <td>Gras- en kruidachtigen</td>\n",
       "      <td>SPO-MIDD-15</td>\n",
       "      <td>2012.0</td>\n",
       "      <td>Honkbal/softbal</td>\n",
       "      <td>Gras</td>\n",
       "      <td>314.84447</td>\n",
       "      <td>5825.39499</td>\n",
       "      <td>POLYGON ((125102.894 484689.877, 125101.551 48...</td>\n",
       "    </tr>\n",
       "    <tr>\n",
       "      <th>1</th>\n",
       "      <td>{F161AD0A-399D-4CCD-8E7E-ADBBE9CCAFB6}</td>\n",
       "      <td>Sportpark Middenmeer-Voorland</td>\n",
       "      <td>Sportpark Middenmeer-Voorland 02</td>\n",
       "      <td>Sportveld (begroeid)</td>\n",
       "      <td>Gras- en kruidachtigen</td>\n",
       "      <td>SPO-MIDD-18</td>\n",
       "      <td>2017.0</td>\n",
       "      <td>Voetbal</td>\n",
       "      <td>Gras</td>\n",
       "      <td>355.09103</td>\n",
       "      <td>7534.40041</td>\n",
       "      <td>POLYGON ((124921.326 484749.999, 124886.684 48...</td>\n",
       "    </tr>\n",
       "    <tr>\n",
       "      <th>2</th>\n",
       "      <td>{7EFD6D90-A589-47EF-9E9B-60178BF50C56}</td>\n",
       "      <td>Sportpark Middenmeer-Voorland</td>\n",
       "      <td>Sportpark Middenmeer-Voorland 02</td>\n",
       "      <td>Sportveld (begroeid)</td>\n",
       "      <td>Gras- en kruidachtigen</td>\n",
       "      <td>SPO-MIDD-14</td>\n",
       "      <td>2012.0</td>\n",
       "      <td>Honkbal/softbal</td>\n",
       "      <td>Gras</td>\n",
       "      <td>354.32389</td>\n",
       "      <td>7706.39551</td>\n",
       "      <td>POLYGON ((125214.673 484730.562, 125244.650 48...</td>\n",
       "    </tr>\n",
       "    <tr>\n",
       "      <th>3</th>\n",
       "      <td>{A422479A-24BD-4566-89F4-30D07091A2CA}</td>\n",
       "      <td>Sportpark Middenmeer-Voorland</td>\n",
       "      <td>Sportpark Middenmeer-Voorland 02</td>\n",
       "      <td>Sportveld (begroeid)</td>\n",
       "      <td>Gras- en kruidachtigen</td>\n",
       "      <td>SPO-MIDD-12</td>\n",
       "      <td>2016.0</td>\n",
       "      <td>Voetbal</td>\n",
       "      <td>Gras</td>\n",
       "      <td>348.86479</td>\n",
       "      <td>7278.19272</td>\n",
       "      <td>POLYGON ((125196.318 484594.694, 125269.853 48...</td>\n",
       "    </tr>\n",
       "    <tr>\n",
       "      <th>4</th>\n",
       "      <td>{9991F3F0-214A-4423-A7B1-EE02DA16CBF0}</td>\n",
       "      <td>Sportpark Middenmeer-Voorland</td>\n",
       "      <td>Sportpark Middenmeer-Voorland 04</td>\n",
       "      <td>Sportveld (begroeid)</td>\n",
       "      <td>Gras- en kruidachtigen</td>\n",
       "      <td>SPO-MIDD-24</td>\n",
       "      <td>2010.0</td>\n",
       "      <td>Voetbal</td>\n",
       "      <td>Gras</td>\n",
       "      <td>351.63656</td>\n",
       "      <td>7317.29683</td>\n",
       "      <td>POLYGON ((125406.020 484628.727, 125387.178 48...</td>\n",
       "    </tr>\n",
       "  </tbody>\n",
       "</table>\n",
       "</div>"
      ],
      "text/plain": [
       "                                     GUID                      SPORTPARK  \\\n",
       "0  {E3710BD2-A5E2-48A6-8486-B9B3F8E18FC8}  Sportpark Middenmeer-Voorland   \n",
       "1  {F161AD0A-399D-4CCD-8E7E-ADBBE9CCAFB6}  Sportpark Middenmeer-Voorland   \n",
       "2  {7EFD6D90-A589-47EF-9E9B-60178BF50C56}  Sportpark Middenmeer-Voorland   \n",
       "3  {A422479A-24BD-4566-89F4-30D07091A2CA}  Sportpark Middenmeer-Voorland   \n",
       "4  {9991F3F0-214A-4423-A7B1-EE02DA16CBF0}  Sportpark Middenmeer-Voorland   \n",
       "\n",
       "                         FUNCTIONEE            OBJECTTYPE  \\\n",
       "0  Sportpark Middenmeer-Voorland 02  Sportveld (begroeid)   \n",
       "1  Sportpark Middenmeer-Voorland 02  Sportveld (begroeid)   \n",
       "2  Sportpark Middenmeer-Voorland 02  Sportveld (begroeid)   \n",
       "3  Sportpark Middenmeer-Voorland 02  Sportveld (begroeid)   \n",
       "4  Sportpark Middenmeer-Voorland 04  Sportveld (begroeid)   \n",
       "\n",
       "               TYPE_OBJEC   VELD_INDEL  JAAR_VAN_A       SPORTFUNCT MATERIAAL  \\\n",
       "0  Gras- en kruidachtigen  SPO-MIDD-15      2012.0  Honkbal/softbal      Gras   \n",
       "1  Gras- en kruidachtigen  SPO-MIDD-18      2017.0          Voetbal      Gras   \n",
       "2  Gras- en kruidachtigen  SPO-MIDD-14      2012.0  Honkbal/softbal      Gras   \n",
       "3  Gras- en kruidachtigen  SPO-MIDD-12      2016.0          Voetbal      Gras   \n",
       "4  Gras- en kruidachtigen  SPO-MIDD-24      2010.0          Voetbal      Gras   \n",
       "\n",
       "   OMTREK_GIS  OPPERVLAKT                                           geometry  \n",
       "0   314.84447  5825.39499  POLYGON ((125102.894 484689.877, 125101.551 48...  \n",
       "1   355.09103  7534.40041  POLYGON ((124921.326 484749.999, 124886.684 48...  \n",
       "2   354.32389  7706.39551  POLYGON ((125214.673 484730.562, 125244.650 48...  \n",
       "3   348.86479  7278.19272  POLYGON ((125196.318 484594.694, 125269.853 48...  \n",
       "4   351.63656  7317.29683  POLYGON ((125406.020 484628.727, 125387.178 48...  "
      ]
     },
     "execution_count": 31,
     "metadata": {},
     "output_type": "execute_result"
    }
   ],
   "source": [
    "sportfields_shp = 'data/homework data/Sportvelden 05122019.shp' #load in the data file\n",
    "lookup_path = 'data/IMD/OAs/'\n",
    "\n",
    "#loading the IMD Data\n",
    "sportfields = gpd.read_file(sportfields_shp)\n",
    "\n",
    "sportfields.head()\n",
    "\n"
   ]
  },
  {
   "cell_type": "code",
   "execution_count": 36,
   "metadata": {},
   "outputs": [
    {
     "data": {
      "text/plain": [
       "<libpysal.weights.contiguity.Queen at 0x137c77fb0>"
      ]
     },
     "execution_count": 36,
     "metadata": {},
     "output_type": "execute_result"
    }
   ],
   "source": [
    "w_queen = weights.Queen.from_dataframe(sportfields, ids='GUID')\n",
    "w_queen"
   ]
  },
  {
   "cell_type": "markdown",
   "metadata": {},
   "source": [
    "## Question 2: Calculating Moran’s I\n",
    "\n",
    "Write a function calculate_morans_i that:\n",
    "\n",
    "    Takes a spatial weight matrix W and an attribute array y.\n",
    "    Calculates Moran’s I for the given attribute array.\n",
    "    Returns the Moran’s I value and its p-value."
   ]
  },
  {
   "cell_type": "code",
   "execution_count": 3,
   "metadata": {},
   "outputs": [],
   "source": [
    "w_queen \n"
   ]
  },
  {
   "cell_type": "markdown",
   "metadata": {},
   "source": [
    "## Question 3: Standardizing Spatial Weight Matrices\n",
    "\n",
    "Create a function standardize_weights that:\n",
    "\n",
    "    Takes a spatial weight matrix W.\n",
    "    Standardizes it so that the weights of each row sum to one.\n",
    "    Returns the standardized weight matrix."
   ]
  },
  {
   "cell_type": "code",
   "execution_count": 57,
   "metadata": {},
   "outputs": [
    {
     "data": {
      "text/plain": [
       "{'{7EFD6D90-A589-47EF-9E9B-60178BF50C56}': 1.0}"
      ]
     },
     "execution_count": 57,
     "metadata": {},
     "output_type": "execute_result"
    }
   ],
   "source": [
    "def standardize_weight(data, column):\n",
    "    data.transform = 'R'\n",
    "    return data[column]\n",
    "\n",
    "standardize_weight(w_queen, '{E3710BD2-A5E2-48A6-8486-B9B3F8E18FC8}')"
   ]
  },
  {
   "cell_type": "markdown",
   "metadata": {},
   "source": [
    "## Question 4: Creating Distance-Based Weights\n",
    "\n",
    "Write a function create_distance_weights that:\n",
    "\n",
    "    Takes a set of point coordinates and a threshold distance.\n",
    "    Constructs a distance-based spatial weight matrix where all points within the threshold distance are assigned a weight.\n",
    "    Returns the weight matrix."
   ]
  },
  {
   "cell_type": "code",
   "execution_count": 64,
   "metadata": {},
   "outputs": [
    {
     "ename": "AttributeError",
     "evalue": "'Queen' object has no attribute 'geometry'",
     "output_type": "error",
     "traceback": [
      "\u001b[0;31m---------------------------------------------------------------------------\u001b[0m",
      "\u001b[0;31mAttributeError\u001b[0m                            Traceback (most recent call last)",
      "Cell \u001b[0;32mIn[64], line 5\u001b[0m\n\u001b[1;32m      2\u001b[0m     w_dist2kmB \u001b[38;5;241m=\u001b[39m weights\u001b[38;5;241m.\u001b[39mDistanceBand\u001b[38;5;241m.\u001b[39mfrom_dataframe(c, \u001b[38;5;241m2000\u001b[39m)\n\u001b[1;32m      3\u001b[0m     w_dist2kmB[\u001b[38;5;124m'\u001b[39m\u001b[38;5;124mgeometry\u001b[39m\u001b[38;5;124m'\u001b[39m]\n\u001b[0;32m----> 5\u001b[0m \u001b[43mcreate_distance_weight\u001b[49m\u001b[43m(\u001b[49m\u001b[43mw_queen\u001b[49m\u001b[43m)\u001b[49m\n",
      "Cell \u001b[0;32mIn[64], line 2\u001b[0m, in \u001b[0;36mcreate_distance_weight\u001b[0;34m(c)\u001b[0m\n\u001b[1;32m      1\u001b[0m \u001b[38;5;28;01mdef\u001b[39;00m \u001b[38;5;21mcreate_distance_weight\u001b[39m(c):\n\u001b[0;32m----> 2\u001b[0m     w_dist2kmB \u001b[38;5;241m=\u001b[39m \u001b[43mweights\u001b[49m\u001b[38;5;241;43m.\u001b[39;49m\u001b[43mDistanceBand\u001b[49m\u001b[38;5;241;43m.\u001b[39;49m\u001b[43mfrom_dataframe\u001b[49m\u001b[43m(\u001b[49m\u001b[43mc\u001b[49m\u001b[43m,\u001b[49m\u001b[43m \u001b[49m\u001b[38;5;241;43m2000\u001b[39;49m\u001b[43m)\u001b[49m\n\u001b[1;32m      3\u001b[0m     w_dist2kmB[\u001b[38;5;124m'\u001b[39m\u001b[38;5;124mgeometry\u001b[39m\u001b[38;5;124m'\u001b[39m]\n",
      "File \u001b[0;32m/Library/Frameworks/Python.framework/Versions/3.12/lib/python3.12/site-packages/libpysal/weights/distance.py:901\u001b[0m, in \u001b[0;36mDistanceBand.from_dataframe\u001b[0;34m(cls, df, threshold, geom_col, ids, use_index, **kwargs)\u001b[0m\n\u001b[1;32m    880\u001b[0m \u001b[38;5;250m\u001b[39m\u001b[38;5;124;03m\"\"\"\u001b[39;00m\n\u001b[1;32m    881\u001b[0m \u001b[38;5;124;03mMake DistanceBand weights from a dataframe.\u001b[39;00m\n\u001b[1;32m    882\u001b[0m \n\u001b[0;32m   (...)\u001b[0m\n\u001b[1;32m    898\u001b[0m \u001b[38;5;124;03m            use index of `df` as `ids` to index the spatial weights object.\u001b[39;00m\n\u001b[1;32m    899\u001b[0m \u001b[38;5;124;03m\"\"\"\u001b[39;00m\n\u001b[1;32m    900\u001b[0m \u001b[38;5;28;01mif\u001b[39;00m geom_col \u001b[38;5;129;01mis\u001b[39;00m \u001b[38;5;28;01mNone\u001b[39;00m:\n\u001b[0;32m--> 901\u001b[0m     geom_col \u001b[38;5;241m=\u001b[39m \u001b[43mdf\u001b[49m\u001b[38;5;241;43m.\u001b[39;49m\u001b[43mgeometry\u001b[49m\u001b[38;5;241m.\u001b[39mname\n\u001b[1;32m    902\u001b[0m pts \u001b[38;5;241m=\u001b[39m get_points_array(df[geom_col])\n\u001b[1;32m    903\u001b[0m \u001b[38;5;28;01mif\u001b[39;00m ids \u001b[38;5;129;01mis\u001b[39;00m \u001b[38;5;28;01mNone\u001b[39;00m \u001b[38;5;129;01mand\u001b[39;00m use_index:\n",
      "\u001b[0;31mAttributeError\u001b[0m: 'Queen' object has no attribute 'geometry'"
     ]
    }
   ],
   "source": [
    "def create_distance_weight(c):\n",
    "    w_dist2kmB = weights.DistanceBand.from_dataframe(c, 2000)\n",
    "    w_dist2kmB['geometry']\n",
    "\n",
    "create_distance_weight(w_queen)\n"
   ]
  },
  {
   "cell_type": "markdown",
   "metadata": {},
   "source": [
    "## Question 5: Visualizing a Moran Plot\n",
    "\n",
    "Using PySAL, write a function plot_moran that:\n",
    "\n",
    "    Takes a spatial weights matrix W and an attribute array y.\n",
    "    Creates and displays a Moran plot for the attribute.\n",
    "    Saves the Moran plot as an image file."
   ]
  },
  {
   "cell_type": "code",
   "execution_count": 73,
   "metadata": {},
   "outputs": [
    {
     "ename": "KeyError",
     "evalue": "'JAAR_VAN_A'",
     "output_type": "error",
     "traceback": [
      "\u001b[0;31m---------------------------------------------------------------------------\u001b[0m",
      "\u001b[0;31mKeyError\u001b[0m                                  Traceback (most recent call last)",
      "Cell \u001b[0;32mIn[73], line 6\u001b[0m\n\u001b[1;32m      2\u001b[0m     f, ax \u001b[38;5;241m=\u001b[39m plt\u001b[38;5;241m.\u001b[39msubplots(\u001b[38;5;241m1\u001b[39m, figsize\u001b[38;5;241m=\u001b[39m(\u001b[38;5;241m9\u001b[39m, \u001b[38;5;241m9\u001b[39m))\n\u001b[1;32m      3\u001b[0m     sns\u001b[38;5;241m.\u001b[39mregplot(x\u001b[38;5;241m=\u001b[39m\u001b[38;5;124m'\u001b[39m\u001b[38;5;124mJAAR_VAN_A\u001b[39m\u001b[38;5;124m'\u001b[39m, y\u001b[38;5;241m=\u001b[39m\u001b[38;5;124m'\u001b[39m\u001b[38;5;124mgeometry\u001b[39m\u001b[38;5;124m'\u001b[39m, data\u001b[38;5;241m=\u001b[39mw_queen, ci\u001b[38;5;241m=\u001b[39m\u001b[38;5;28;01mNone\u001b[39;00m)\n\u001b[0;32m----> 6\u001b[0m \u001b[43mplot_moran\u001b[49m\u001b[43m(\u001b[49m\u001b[43m)\u001b[49m\n",
      "Cell \u001b[0;32mIn[73], line 3\u001b[0m, in \u001b[0;36mplot_moran\u001b[0;34m()\u001b[0m\n\u001b[1;32m      1\u001b[0m \u001b[38;5;28;01mdef\u001b[39;00m \u001b[38;5;21mplot_moran\u001b[39m():\n\u001b[1;32m      2\u001b[0m     f, ax \u001b[38;5;241m=\u001b[39m plt\u001b[38;5;241m.\u001b[39msubplots(\u001b[38;5;241m1\u001b[39m, figsize\u001b[38;5;241m=\u001b[39m(\u001b[38;5;241m9\u001b[39m, \u001b[38;5;241m9\u001b[39m))\n\u001b[0;32m----> 3\u001b[0m     \u001b[43msns\u001b[49m\u001b[38;5;241;43m.\u001b[39;49m\u001b[43mregplot\u001b[49m\u001b[43m(\u001b[49m\u001b[43mx\u001b[49m\u001b[38;5;241;43m=\u001b[39;49m\u001b[38;5;124;43m'\u001b[39;49m\u001b[38;5;124;43mJAAR_VAN_A\u001b[39;49m\u001b[38;5;124;43m'\u001b[39;49m\u001b[43m,\u001b[49m\u001b[43m \u001b[49m\u001b[43my\u001b[49m\u001b[38;5;241;43m=\u001b[39;49m\u001b[38;5;124;43m'\u001b[39;49m\u001b[38;5;124;43mgeometry\u001b[39;49m\u001b[38;5;124;43m'\u001b[39;49m\u001b[43m,\u001b[49m\u001b[43m \u001b[49m\u001b[43mdata\u001b[49m\u001b[38;5;241;43m=\u001b[39;49m\u001b[43mw_queen\u001b[49m\u001b[43m,\u001b[49m\u001b[43m \u001b[49m\u001b[43mci\u001b[49m\u001b[38;5;241;43m=\u001b[39;49m\u001b[38;5;28;43;01mNone\u001b[39;49;00m\u001b[43m)\u001b[49m\n",
      "File \u001b[0;32m/Library/Frameworks/Python.framework/Versions/3.12/lib/python3.12/site-packages/seaborn/regression.py:763\u001b[0m, in \u001b[0;36mregplot\u001b[0;34m(data, x, y, x_estimator, x_bins, x_ci, scatter, fit_reg, ci, n_boot, units, seed, order, logistic, lowess, robust, logx, x_partial, y_partial, truncate, dropna, x_jitter, y_jitter, label, color, marker, scatter_kws, line_kws, ax)\u001b[0m\n\u001b[1;32m    752\u001b[0m \u001b[38;5;28;01mdef\u001b[39;00m \u001b[38;5;21mregplot\u001b[39m(\n\u001b[1;32m    753\u001b[0m     data\u001b[38;5;241m=\u001b[39m\u001b[38;5;28;01mNone\u001b[39;00m, \u001b[38;5;241m*\u001b[39m, x\u001b[38;5;241m=\u001b[39m\u001b[38;5;28;01mNone\u001b[39;00m, y\u001b[38;5;241m=\u001b[39m\u001b[38;5;28;01mNone\u001b[39;00m,\n\u001b[1;32m    754\u001b[0m     x_estimator\u001b[38;5;241m=\u001b[39m\u001b[38;5;28;01mNone\u001b[39;00m, x_bins\u001b[38;5;241m=\u001b[39m\u001b[38;5;28;01mNone\u001b[39;00m, x_ci\u001b[38;5;241m=\u001b[39m\u001b[38;5;124m\"\u001b[39m\u001b[38;5;124mci\u001b[39m\u001b[38;5;124m\"\u001b[39m,\n\u001b[0;32m   (...)\u001b[0m\n\u001b[1;32m    760\u001b[0m     scatter_kws\u001b[38;5;241m=\u001b[39m\u001b[38;5;28;01mNone\u001b[39;00m, line_kws\u001b[38;5;241m=\u001b[39m\u001b[38;5;28;01mNone\u001b[39;00m, ax\u001b[38;5;241m=\u001b[39m\u001b[38;5;28;01mNone\u001b[39;00m\n\u001b[1;32m    761\u001b[0m ):\n\u001b[0;32m--> 763\u001b[0m     plotter \u001b[38;5;241m=\u001b[39m \u001b[43m_RegressionPlotter\u001b[49m\u001b[43m(\u001b[49m\u001b[43mx\u001b[49m\u001b[43m,\u001b[49m\u001b[43m \u001b[49m\u001b[43my\u001b[49m\u001b[43m,\u001b[49m\u001b[43m \u001b[49m\u001b[43mdata\u001b[49m\u001b[43m,\u001b[49m\u001b[43m \u001b[49m\u001b[43mx_estimator\u001b[49m\u001b[43m,\u001b[49m\u001b[43m \u001b[49m\u001b[43mx_bins\u001b[49m\u001b[43m,\u001b[49m\u001b[43m \u001b[49m\u001b[43mx_ci\u001b[49m\u001b[43m,\u001b[49m\n\u001b[1;32m    764\u001b[0m \u001b[43m                                 \u001b[49m\u001b[43mscatter\u001b[49m\u001b[43m,\u001b[49m\u001b[43m \u001b[49m\u001b[43mfit_reg\u001b[49m\u001b[43m,\u001b[49m\u001b[43m \u001b[49m\u001b[43mci\u001b[49m\u001b[43m,\u001b[49m\u001b[43m \u001b[49m\u001b[43mn_boot\u001b[49m\u001b[43m,\u001b[49m\u001b[43m \u001b[49m\u001b[43munits\u001b[49m\u001b[43m,\u001b[49m\u001b[43m \u001b[49m\u001b[43mseed\u001b[49m\u001b[43m,\u001b[49m\n\u001b[1;32m    765\u001b[0m \u001b[43m                                 \u001b[49m\u001b[43morder\u001b[49m\u001b[43m,\u001b[49m\u001b[43m \u001b[49m\u001b[43mlogistic\u001b[49m\u001b[43m,\u001b[49m\u001b[43m \u001b[49m\u001b[43mlowess\u001b[49m\u001b[43m,\u001b[49m\u001b[43m \u001b[49m\u001b[43mrobust\u001b[49m\u001b[43m,\u001b[49m\u001b[43m \u001b[49m\u001b[43mlogx\u001b[49m\u001b[43m,\u001b[49m\n\u001b[1;32m    766\u001b[0m \u001b[43m                                 \u001b[49m\u001b[43mx_partial\u001b[49m\u001b[43m,\u001b[49m\u001b[43m \u001b[49m\u001b[43my_partial\u001b[49m\u001b[43m,\u001b[49m\u001b[43m \u001b[49m\u001b[43mtruncate\u001b[49m\u001b[43m,\u001b[49m\u001b[43m \u001b[49m\u001b[43mdropna\u001b[49m\u001b[43m,\u001b[49m\n\u001b[1;32m    767\u001b[0m \u001b[43m                                 \u001b[49m\u001b[43mx_jitter\u001b[49m\u001b[43m,\u001b[49m\u001b[43m \u001b[49m\u001b[43my_jitter\u001b[49m\u001b[43m,\u001b[49m\u001b[43m \u001b[49m\u001b[43mcolor\u001b[49m\u001b[43m,\u001b[49m\u001b[43m \u001b[49m\u001b[43mlabel\u001b[49m\u001b[43m)\u001b[49m\n\u001b[1;32m    769\u001b[0m     \u001b[38;5;28;01mif\u001b[39;00m ax \u001b[38;5;129;01mis\u001b[39;00m \u001b[38;5;28;01mNone\u001b[39;00m:\n\u001b[1;32m    770\u001b[0m         ax \u001b[38;5;241m=\u001b[39m plt\u001b[38;5;241m.\u001b[39mgca()\n",
      "File \u001b[0;32m/Library/Frameworks/Python.framework/Versions/3.12/lib/python3.12/site-packages/seaborn/regression.py:107\u001b[0m, in \u001b[0;36m_RegressionPlotter.__init__\u001b[0;34m(self, x, y, data, x_estimator, x_bins, x_ci, scatter, fit_reg, ci, n_boot, units, seed, order, logistic, lowess, robust, logx, x_partial, y_partial, truncate, dropna, x_jitter, y_jitter, color, label)\u001b[0m\n\u001b[1;32m    104\u001b[0m     \u001b[38;5;28;01mraise\u001b[39;00m \u001b[38;5;167;01mValueError\u001b[39;00m(\u001b[38;5;124m\"\u001b[39m\u001b[38;5;124mMutually exclusive regression options.\u001b[39m\u001b[38;5;124m\"\u001b[39m)\n\u001b[1;32m    106\u001b[0m \u001b[38;5;66;03m# Extract the data vals from the arguments or passed dataframe\u001b[39;00m\n\u001b[0;32m--> 107\u001b[0m \u001b[38;5;28;43mself\u001b[39;49m\u001b[38;5;241;43m.\u001b[39;49m\u001b[43mestablish_variables\u001b[49m\u001b[43m(\u001b[49m\u001b[43mdata\u001b[49m\u001b[43m,\u001b[49m\u001b[43m \u001b[49m\u001b[43mx\u001b[49m\u001b[38;5;241;43m=\u001b[39;49m\u001b[43mx\u001b[49m\u001b[43m,\u001b[49m\u001b[43m \u001b[49m\u001b[43my\u001b[49m\u001b[38;5;241;43m=\u001b[39;49m\u001b[43my\u001b[49m\u001b[43m,\u001b[49m\u001b[43m \u001b[49m\u001b[43munits\u001b[49m\u001b[38;5;241;43m=\u001b[39;49m\u001b[43munits\u001b[49m\u001b[43m,\u001b[49m\n\u001b[1;32m    108\u001b[0m \u001b[43m                         \u001b[49m\u001b[43mx_partial\u001b[49m\u001b[38;5;241;43m=\u001b[39;49m\u001b[43mx_partial\u001b[49m\u001b[43m,\u001b[49m\u001b[43m \u001b[49m\u001b[43my_partial\u001b[49m\u001b[38;5;241;43m=\u001b[39;49m\u001b[43my_partial\u001b[49m\u001b[43m)\u001b[49m\n\u001b[1;32m    110\u001b[0m \u001b[38;5;66;03m# Drop null observations\u001b[39;00m\n\u001b[1;32m    111\u001b[0m \u001b[38;5;28;01mif\u001b[39;00m dropna:\n",
      "File \u001b[0;32m/Library/Frameworks/Python.framework/Versions/3.12/lib/python3.12/site-packages/seaborn/regression.py:44\u001b[0m, in \u001b[0;36m_LinearPlotter.establish_variables\u001b[0;34m(self, data, **kws)\u001b[0m\n\u001b[1;32m     42\u001b[0m \u001b[38;5;28;01mfor\u001b[39;00m var, val \u001b[38;5;129;01min\u001b[39;00m kws\u001b[38;5;241m.\u001b[39mitems():\n\u001b[1;32m     43\u001b[0m     \u001b[38;5;28;01mif\u001b[39;00m \u001b[38;5;28misinstance\u001b[39m(val, \u001b[38;5;28mstr\u001b[39m):\n\u001b[0;32m---> 44\u001b[0m         vector \u001b[38;5;241m=\u001b[39m \u001b[43mdata\u001b[49m\u001b[43m[\u001b[49m\u001b[43mval\u001b[49m\u001b[43m]\u001b[49m\n\u001b[1;32m     45\u001b[0m     \u001b[38;5;28;01melif\u001b[39;00m \u001b[38;5;28misinstance\u001b[39m(val, \u001b[38;5;28mlist\u001b[39m):\n\u001b[1;32m     46\u001b[0m         vector \u001b[38;5;241m=\u001b[39m np\u001b[38;5;241m.\u001b[39masarray(val)\n",
      "File \u001b[0;32m/Library/Frameworks/Python.framework/Versions/3.12/lib/python3.12/site-packages/libpysal/weights/weights.py:874\u001b[0m, in \u001b[0;36mW.__getitem__\u001b[0;34m(self, key)\u001b[0m\n\u001b[1;32m    863\u001b[0m \u001b[38;5;28;01mdef\u001b[39;00m \u001b[38;5;21m__getitem__\u001b[39m(\u001b[38;5;28mself\u001b[39m, key):\n\u001b[1;32m    864\u001b[0m \u001b[38;5;250m    \u001b[39m\u001b[38;5;124;03m\"\"\"Allow a dictionary like interaction with the weights class.\u001b[39;00m\n\u001b[1;32m    865\u001b[0m \n\u001b[1;32m    866\u001b[0m \u001b[38;5;124;03m    Examples\u001b[39;00m\n\u001b[0;32m   (...)\u001b[0m\n\u001b[1;32m    872\u001b[0m \u001b[38;5;124;03m    True\u001b[39;00m\n\u001b[1;32m    873\u001b[0m \u001b[38;5;124;03m    \"\"\"\u001b[39;00m\n\u001b[0;32m--> 874\u001b[0m     \u001b[38;5;28;01mreturn\u001b[39;00m \u001b[38;5;28mdict\u001b[39m(\u001b[38;5;28mlist\u001b[39m(\u001b[38;5;28mzip\u001b[39m(\u001b[38;5;28;43mself\u001b[39;49m\u001b[38;5;241;43m.\u001b[39;49m\u001b[43mneighbors\u001b[49m\u001b[43m[\u001b[49m\u001b[43mkey\u001b[49m\u001b[43m]\u001b[49m, \u001b[38;5;28mself\u001b[39m\u001b[38;5;241m.\u001b[39mweights[key], strict\u001b[38;5;241m=\u001b[39m\u001b[38;5;28;01mTrue\u001b[39;00m)))\n",
      "\u001b[0;31mKeyError\u001b[0m: 'JAAR_VAN_A'"
     ]
    },
    {
     "data": {
      "image/png": "[encoded data removed]",
      "text/plain": [
       "<Figure size 900x900 with 1 Axes>"
      ]
     },
     "metadata": {},
     "output_type": "display_data"
    }
   ],
   "source": [
    "def plot_moran():\n",
    "    f, ax = plt.subplots(1, figsize=(9, 9))\n",
    "    sns.regplot(x='JAAR_VAN_A', y='geometry', data=w_queen, ci=None)\n",
    "    \n",
    "\n",
    "plot_moran()"
   ]
  }
 ],
 "metadata": {
  "kernelspec": {
   "display_name": "Python 3 (ipykernel)",
   "language": "python",
   "name": "python3"
  },
  "language_info": {
   "codemirror_mode": {
    "name": "ipython",
    "version": 3
   },
   "file_extension": ".py",
   "mimetype": "text/x-python",
   "name": "python",
   "nbconvert_exporter": "python",
   "pygments_lexer": "ipython3",
   "version": "3.12.5"
  }
 },
 "nbformat": 4,
 "nbformat_minor": 4
}
