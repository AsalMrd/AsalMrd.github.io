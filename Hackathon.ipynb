{
 "cells": [
  {
   "cell_type": "markdown",
   "metadata": {},
   "source": [
    "## Hackathon Group 5\n",
    "\n",
    "**TU Delft and WUR**<br>\n",
    "**Q1 2024**<br>\n",
    "**Instructor:** Theodoros Chatzivasileiadis <br>\n",
    "**Instructor:** Hans Hoogenboom <br>\n",
    "**Students:** Asal Moradi, Nathalie Waelbroeck, Wessel van Elzakker, Marnix Broersma <br>\n",
    "**TA:** Ka Yi Chua <br>\n",
    "**[Metropolitan Data 1](https://jhoogenboom.github.io/spatial-data-science/_index.html)** <br>\n",
    "\n"
   ]
  },
  {
   "cell_type": "markdown",
   "metadata": {},
   "source": [
    "__Research Question__\n",
    "\n",
    "Where are we more likely to find solar panels in the city of Amsterdam?\n",
    "\n",
    "Is there an equity issue?\n",
    "\n",
    "We wanted to analyze how different factors affect the adoption of solar in Amsterdam. We found a study by Berkely Lab that investigated a variety of trends regarding solar adoption in the United States. Two variables that stood out to us were the solar-adaption income distributions and owner-occupied housing solar adoption. In this study, the “middle income” group was the biggest group adopting solar panels. A higher share of owner-occupied houses also showed a positive correlation with solar panel adoption (Barbose et al., 2022). We were interested in analyzing the same variables for Amsterdam. We did expect that the different land use pattern would be a large differentiator. Amsterdam has a significant higher population density than the United States, and as stated by Lan et al. (2021), it has a negative effect on solar adoption per capita.\n",
    "\n",
    "Barbose, G. L., Forrester, S., O’Shaughnessy, E., & Darghouth, N. R. (2022, 25 februari). Residential Solar-Adopter Income and Demographic Trends: 2022 Update. https://escholarship.org/uc/item/5vd6w51m\n",
    "\n",
    "Lan, H., Gou, Z., & Lu, Y. (2021). Machine Learning approach to understand regional disparity of residential solar adoption in Australia. Renewable And Sustainable Energy Reviews, 126, 110458.\n"
   ]
  },
  {
   "cell_type": "markdown",
   "metadata": {},
   "source": [
    "__Importing the Libraries__\n",
    "\n",
    "We imported the libraries that would support our analysis."
   ]
  },
  {
   "cell_type": "code",
   "execution_count": 1,
   "metadata": {},
   "outputs": [
    {
     "name": "stderr",
     "output_type": "stream",
     "text": [
      "c:\\Users\\natha\\AppData\\Local\\Programs\\Python\\Python312\\Lib\\site-packages\\spaghetti\\network.py:41: FutureWarning: The next major release of pysal/spaghetti (2.0.0) will drop support for all ``libpysal.cg`` geometries. This change is a first step in refactoring ``spaghetti`` that is expected to result in dramatically reduced runtimes for network instantiation and operations. Users currently requiring network and point pattern input as ``libpysal.cg`` geometries should prepare for this simply by converting to ``shapely`` geometries.\n",
      "  warnings.warn(dep_msg, FutureWarning, stacklevel=1)\n",
      "c:\\Users\\natha\\AppData\\Local\\Programs\\Python\\Python312\\Lib\\site-packages\\tqdm\\auto.py:21: TqdmWarning: IProgress not found. Please update jupyter and ipywidgets. See https://ipywidgets.readthedocs.io/en/stable/user_install.html\n",
      "  from .autonotebook import tqdm as notebook_tqdm\n"
     ]
    }
   ],
   "source": [
    "%matplotlib inline\n",
    "import numpy as np\n",
    "import matplotlib.pyplot as plt\n",
    "import pandas as pd\n",
    "import seaborn as sns\n",
    "import pysal as ps\n",
    "from pysal.lib import weights\n",
    "from libpysal.io import open as psopen\n",
    "import geopandas as gpd\n",
    "from pysal.lib import weights\n",
    "import osmnx as ox  \n",
    "import matplotlib  \n",
    "from pysal.explore import esda\n",
    "from esda import Moran\n",
    "from splot.esda import moran_scatterplot, lisa_cluster, plot_local_autocorrelation\n",
    "import contextily as ctx"
   ]
  },
  {
   "cell_type": "markdown",
   "metadata": {},
   "source": [
    "__Loading the spatial data__\n",
    "\n",
    "Description"
   ]
  },
  {
   "cell_type": "markdown",
   "metadata": {},
   "source": [
    "__Loading the data__\n",
    "\n",
    "* nl_wp_Wonen = total solar energy production on residential buildings.\n",
    "* Property: Owner-occupied = total number of owner-occupied housing units\n",
    "* Mean disposable household income = Income\n",
    "* Population density = number of people per sq.km."
   ]
  },
  {
   "cell_type": "code",
   "execution_count": 2,
   "metadata": {},
   "outputs": [],
   "source": [
    "df_solar = pd.read_excel(\"hackathon/Solar panels.xlsx\", usecols=[\"Area\", \"Year\", \"nl_wp_Wonen\"], index_col=\"Area\")\n",
    "df_housing = pd.read_excel(\"hackathon/Housing.xlsx\", usecols=[\"Area\", \"Property: Owner-occupied\"], index_col=\"Area\")\n",
    "df_income = pd.read_excel(\"hackathon/Income.xlsx\", usecols=[\"Area\", \"Mean disposable household income\"], index_col=\"Area\")\n",
    "df_population = pd.read_excel(\"hackathon/Population.xlsx\", usecols=[\"Area\", \"Population density\"], index_col=\"Area\")"
   ]
  },
  {
   "cell_type": "markdown",
   "metadata": {},
   "source": [
    "__Cleaning the data__\n",
    "\n",
    "We merged and trimmed the data to only include information from the year 2021. We also kept only the essential data described above. In addition:\n",
    "* we dropped 2 lines of missing data\n",
    "* we replaced the '-' for 0s\n",
    "* we converted objects to integers."
   ]
  },
  {
   "cell_type": "code",
   "execution_count": 3,
   "metadata": {},
   "outputs": [],
   "source": [
    "df_solar = df_solar.loc[df_solar[\"Year\"] == 2021]   # We only want to use data from 2021 for data consistency.\n",
    "df_solar = df_solar.drop(columns=[\"Year\"])"
   ]
  },
  {
   "cell_type": "code",
   "execution_count": 8,
   "metadata": {},
   "outputs": [
    {
     "name": "stderr",
     "output_type": "stream",
     "text": [
      "C:\\Users\\natha\\AppData\\Local\\Temp\\ipykernel_31940\\1339664075.py:4: FutureWarning: Downcasting behavior in `replace` is deprecated and will be removed in a future version. To retain the old behavior, explicitly call `result.infer_objects(copy=False)`. To opt-in to the future behavior, set `pd.set_option('future.no_silent_downcasting', True)`\n",
      "  hd = hd.replace('-', 0)     # we noticed there are - in industrial areas where we wouldn't expect housing to exist. So we assume - is equivalent to 0.\n"
     ]
    },
    {
     "data": {
      "text/html": [
       "<div>\n",
       "<style scoped>\n",
       "    .dataframe tbody tr th:only-of-type {\n",
       "        vertical-align: middle;\n",
       "    }\n",
       "\n",
       "    .dataframe tbody tr th {\n",
       "        vertical-align: top;\n",
       "    }\n",
       "\n",
       "    .dataframe thead th {\n",
       "        text-align: right;\n",
       "    }\n",
       "</style>\n",
       "<table border=\"1\" class=\"dataframe\">\n",
       "  <thead>\n",
       "    <tr style=\"text-align: right;\">\n",
       "      <th></th>\n",
       "      <th>Property: Owner-occupied</th>\n",
       "      <th>Mean disposable household income</th>\n",
       "      <th>Population density</th>\n",
       "      <th>nl_wp_Wonen</th>\n",
       "    </tr>\n",
       "    <tr>\n",
       "      <th>Area</th>\n",
       "      <th></th>\n",
       "      <th></th>\n",
       "      <th></th>\n",
       "      <th></th>\n",
       "    </tr>\n",
       "  </thead>\n",
       "  <tbody>\n",
       "    <tr>\n",
       "      <th>Haarlemmerbuurt</th>\n",
       "      <td>1556</td>\n",
       "      <td>49800</td>\n",
       "      <td>17126</td>\n",
       "      <td>252054.0</td>\n",
       "    </tr>\n",
       "    <tr>\n",
       "      <th>Jordaan</th>\n",
       "      <td>3236</td>\n",
       "      <td>46700</td>\n",
       "      <td>23298</td>\n",
       "      <td>276128.0</td>\n",
       "    </tr>\n",
       "    <tr>\n",
       "      <th>Grachtengordel-West</th>\n",
       "      <td>1656</td>\n",
       "      <td>83300</td>\n",
       "      <td>14217</td>\n",
       "      <td>75086.0</td>\n",
       "    </tr>\n",
       "    <tr>\n",
       "      <th>Burgwallen-Nieuwe Zijde</th>\n",
       "      <td>522</td>\n",
       "      <td>44300</td>\n",
       "      <td>7182</td>\n",
       "      <td>45236.0</td>\n",
       "    </tr>\n",
       "    <tr>\n",
       "      <th>Burgwallen-Oude Zijde</th>\n",
       "      <td>526</td>\n",
       "      <td>40800</td>\n",
       "      <td>12986</td>\n",
       "      <td>14979.0</td>\n",
       "    </tr>\n",
       "    <tr>\n",
       "      <th>...</th>\n",
       "      <td>...</td>\n",
       "      <td>...</td>\n",
       "      <td>...</td>\n",
       "      <td>...</td>\n",
       "    </tr>\n",
       "    <tr>\n",
       "      <th>K-buurt</th>\n",
       "      <td>846</td>\n",
       "      <td>37000</td>\n",
       "      <td>8248</td>\n",
       "      <td>904655.0</td>\n",
       "    </tr>\n",
       "    <tr>\n",
       "      <th>Holendrecht</th>\n",
       "      <td>822</td>\n",
       "      <td>35000</td>\n",
       "      <td>7220</td>\n",
       "      <td>1038394.0</td>\n",
       "    </tr>\n",
       "    <tr>\n",
       "      <th>Nellestein</th>\n",
       "      <td>679</td>\n",
       "      <td>38600</td>\n",
       "      <td>1418</td>\n",
       "      <td>166320.0</td>\n",
       "    </tr>\n",
       "    <tr>\n",
       "      <th>Reigersbos</th>\n",
       "      <td>1383</td>\n",
       "      <td>36900</td>\n",
       "      <td>6811</td>\n",
       "      <td>636327.0</td>\n",
       "    </tr>\n",
       "    <tr>\n",
       "      <th>Gein</th>\n",
       "      <td>2065</td>\n",
       "      <td>40200</td>\n",
       "      <td>6177</td>\n",
       "      <td>1204585.0</td>\n",
       "    </tr>\n",
       "  </tbody>\n",
       "</table>\n",
       "<p>103 rows × 4 columns</p>\n",
       "</div>"
      ],
      "text/plain": [
       "                         Property: Owner-occupied  \\\n",
       "Area                                                \n",
       "Haarlemmerbuurt                              1556   \n",
       "Jordaan                                      3236   \n",
       "Grachtengordel-West                          1656   \n",
       "Burgwallen-Nieuwe Zijde                       522   \n",
       "Burgwallen-Oude Zijde                         526   \n",
       "...                                           ...   \n",
       "K-buurt                                       846   \n",
       "Holendrecht                                   822   \n",
       "Nellestein                                    679   \n",
       "Reigersbos                                   1383   \n",
       "Gein                                         2065   \n",
       "\n",
       "                         Mean disposable household income  Population density  \\\n",
       "Area                                                                            \n",
       "Haarlemmerbuurt                                     49800               17126   \n",
       "Jordaan                                             46700               23298   \n",
       "Grachtengordel-West                                 83300               14217   \n",
       "Burgwallen-Nieuwe Zijde                             44300                7182   \n",
       "Burgwallen-Oude Zijde                               40800               12986   \n",
       "...                                                   ...                 ...   \n",
       "K-buurt                                             37000                8248   \n",
       "Holendrecht                                         35000                7220   \n",
       "Nellestein                                          38600                1418   \n",
       "Reigersbos                                          36900                6811   \n",
       "Gein                                                40200                6177   \n",
       "\n",
       "                         nl_wp_Wonen  \n",
       "Area                                  \n",
       "Haarlemmerbuurt             252054.0  \n",
       "Jordaan                     276128.0  \n",
       "Grachtengordel-West          75086.0  \n",
       "Burgwallen-Nieuwe Zijde      45236.0  \n",
       "Burgwallen-Oude Zijde        14979.0  \n",
       "...                              ...  \n",
       "K-buurt                     904655.0  \n",
       "Holendrecht                1038394.0  \n",
       "Nellestein                  166320.0  \n",
       "Reigersbos                  636327.0  \n",
       "Gein                       1204585.0  \n",
       "\n",
       "[103 rows x 4 columns]"
      ]
     },
     "execution_count": 8,
     "metadata": {},
     "output_type": "execute_result"
    }
   ],
   "source": [
    "hd = pd.concat([df_housing, df_income, df_population, df_solar], axis=1)\n",
    "\n",
    "hd = hd.dropna()    # only 2 lines are missing data, so we felt it was ok to drop those.\n",
    "hd = hd.replace('-', 0)     # we noticed there are - in industrial areas where we wouldn't expect housing to exist. So we assume - is equivalent to 0.\n",
    "\n",
    "# two columns were clearly numbers, but were categorized as objects. We converted them to integers to support the statistical analysis.\n",
    "hd.astype({'Mean disposable household income': 'int64', 'Population density': 'int64'}).dtypes\n",
    "hd.dtypes\n",
    "\n",
    "hd"
   ]
  },
  {
   "cell_type": "markdown",
   "metadata": {},
   "source": [
    "__Descriptive Statistics__"
   ]
  },
  {
   "cell_type": "code",
   "execution_count": 42,
   "metadata": {},
   "outputs": [
    {
     "data": {
      "text/html": [
       "<div>\n",
       "<style scoped>\n",
       "    .dataframe tbody tr th:only-of-type {\n",
       "        vertical-align: middle;\n",
       "    }\n",
       "\n",
       "    .dataframe tbody tr th {\n",
       "        vertical-align: top;\n",
       "    }\n",
       "\n",
       "    .dataframe thead tr th {\n",
       "        text-align: left;\n",
       "    }\n",
       "</style>\n",
       "<table border=\"1\" class=\"dataframe\">\n",
       "  <thead>\n",
       "    <tr>\n",
       "      <th></th>\n",
       "      <th>Area</th>\n",
       "      <th colspan=\"5\" halign=\"left\">Property: Owner-occupied</th>\n",
       "      <th colspan=\"4\" halign=\"left\">Mean disposable household income</th>\n",
       "      <th>...</th>\n",
       "      <th colspan=\"5\" halign=\"left\">Population density</th>\n",
       "      <th colspan=\"5\" halign=\"left\">nl_wp_Wonen</th>\n",
       "    </tr>\n",
       "    <tr>\n",
       "      <th></th>\n",
       "      <th></th>\n",
       "      <th>mean</th>\n",
       "      <th>median</th>\n",
       "      <th>std</th>\n",
       "      <th>min</th>\n",
       "      <th>max</th>\n",
       "      <th>mean</th>\n",
       "      <th>median</th>\n",
       "      <th>std</th>\n",
       "      <th>min</th>\n",
       "      <th>...</th>\n",
       "      <th>mean</th>\n",
       "      <th>median</th>\n",
       "      <th>std</th>\n",
       "      <th>min</th>\n",
       "      <th>max</th>\n",
       "      <th>mean</th>\n",
       "      <th>median</th>\n",
       "      <th>std</th>\n",
       "      <th>min</th>\n",
       "      <th>max</th>\n",
       "    </tr>\n",
       "  </thead>\n",
       "  <tbody>\n",
       "    <tr>\n",
       "      <th>0</th>\n",
       "      <td>Amstel III/Bullewijk</td>\n",
       "      <td>6.0</td>\n",
       "      <td>6.0</td>\n",
       "      <td>NaN</td>\n",
       "      <td>6</td>\n",
       "      <td>6</td>\n",
       "      <td>29600.0</td>\n",
       "      <td>29600.0</td>\n",
       "      <td>NaN</td>\n",
       "      <td>29600</td>\n",
       "      <td>...</td>\n",
       "      <td>334.0</td>\n",
       "      <td>334.0</td>\n",
       "      <td>NaN</td>\n",
       "      <td>334</td>\n",
       "      <td>334</td>\n",
       "      <td>398248.0</td>\n",
       "      <td>398248.0</td>\n",
       "      <td>NaN</td>\n",
       "      <td>398248.0</td>\n",
       "      <td>398248.0</td>\n",
       "    </tr>\n",
       "    <tr>\n",
       "      <th>1</th>\n",
       "      <td>Amsterdamse Poort e.o.</td>\n",
       "      <td>705.0</td>\n",
       "      <td>705.0</td>\n",
       "      <td>NaN</td>\n",
       "      <td>705</td>\n",
       "      <td>705</td>\n",
       "      <td>35800.0</td>\n",
       "      <td>35800.0</td>\n",
       "      <td>NaN</td>\n",
       "      <td>35800</td>\n",
       "      <td>...</td>\n",
       "      <td>5915.0</td>\n",
       "      <td>5915.0</td>\n",
       "      <td>NaN</td>\n",
       "      <td>5915</td>\n",
       "      <td>5915</td>\n",
       "      <td>458259.0</td>\n",
       "      <td>458259.0</td>\n",
       "      <td>NaN</td>\n",
       "      <td>458259.0</td>\n",
       "      <td>458259.0</td>\n",
       "    </tr>\n",
       "    <tr>\n",
       "      <th>2</th>\n",
       "      <td>Apollobuurt</td>\n",
       "      <td>2019.0</td>\n",
       "      <td>2019.0</td>\n",
       "      <td>NaN</td>\n",
       "      <td>2019</td>\n",
       "      <td>2019</td>\n",
       "      <td>119800.0</td>\n",
       "      <td>119800.0</td>\n",
       "      <td>NaN</td>\n",
       "      <td>119800</td>\n",
       "      <td>...</td>\n",
       "      <td>9631.0</td>\n",
       "      <td>9631.0</td>\n",
       "      <td>NaN</td>\n",
       "      <td>9631</td>\n",
       "      <td>9631</td>\n",
       "      <td>245425.0</td>\n",
       "      <td>245425.0</td>\n",
       "      <td>NaN</td>\n",
       "      <td>245425.0</td>\n",
       "      <td>245425.0</td>\n",
       "    </tr>\n",
       "    <tr>\n",
       "      <th>3</th>\n",
       "      <td>Banne Buiksloot</td>\n",
       "      <td>1864.0</td>\n",
       "      <td>1864.0</td>\n",
       "      <td>NaN</td>\n",
       "      <td>1864</td>\n",
       "      <td>1864</td>\n",
       "      <td>39700.0</td>\n",
       "      <td>39700.0</td>\n",
       "      <td>NaN</td>\n",
       "      <td>39700</td>\n",
       "      <td>...</td>\n",
       "      <td>9014.0</td>\n",
       "      <td>9014.0</td>\n",
       "      <td>NaN</td>\n",
       "      <td>9014</td>\n",
       "      <td>9014</td>\n",
       "      <td>2093177.0</td>\n",
       "      <td>2093177.0</td>\n",
       "      <td>NaN</td>\n",
       "      <td>2093177.0</td>\n",
       "      <td>2093177.0</td>\n",
       "    </tr>\n",
       "    <tr>\n",
       "      <th>4</th>\n",
       "      <td>Bellamybuurt</td>\n",
       "      <td>888.0</td>\n",
       "      <td>888.0</td>\n",
       "      <td>NaN</td>\n",
       "      <td>888</td>\n",
       "      <td>888</td>\n",
       "      <td>46900.0</td>\n",
       "      <td>46900.0</td>\n",
       "      <td>NaN</td>\n",
       "      <td>46900</td>\n",
       "      <td>...</td>\n",
       "      <td>26711.0</td>\n",
       "      <td>26711.0</td>\n",
       "      <td>NaN</td>\n",
       "      <td>26711</td>\n",
       "      <td>26711</td>\n",
       "      <td>284667.0</td>\n",
       "      <td>284667.0</td>\n",
       "      <td>NaN</td>\n",
       "      <td>284667.0</td>\n",
       "      <td>284667.0</td>\n",
       "    </tr>\n",
       "  </tbody>\n",
       "</table>\n",
       "<p>5 rows × 21 columns</p>\n",
       "</div>"
      ],
      "text/plain": [
       "                     Area Property: Owner-occupied                          \\\n",
       "                                              mean  median std   min   max   \n",
       "0    Amstel III/Bullewijk                      6.0     6.0 NaN     6     6   \n",
       "1  Amsterdamse Poort e.o.                    705.0   705.0 NaN   705   705   \n",
       "2             Apollobuurt                   2019.0  2019.0 NaN  2019  2019   \n",
       "3         Banne Buiksloot                   1864.0  1864.0 NaN  1864  1864   \n",
       "4            Bellamybuurt                    888.0   888.0 NaN   888   888   \n",
       "\n",
       "  Mean disposable household income                        ...  \\\n",
       "                              mean    median std     min  ...   \n",
       "0                          29600.0   29600.0 NaN   29600  ...   \n",
       "1                          35800.0   35800.0 NaN   35800  ...   \n",
       "2                         119800.0  119800.0 NaN  119800  ...   \n",
       "3                          39700.0   39700.0 NaN   39700  ...   \n",
       "4                          46900.0   46900.0 NaN   46900  ...   \n",
       "\n",
       "  Population density                            nl_wp_Wonen                 \\\n",
       "                mean   median std    min    max        mean     median std   \n",
       "0              334.0    334.0 NaN    334    334    398248.0   398248.0 NaN   \n",
       "1             5915.0   5915.0 NaN   5915   5915    458259.0   458259.0 NaN   \n",
       "2             9631.0   9631.0 NaN   9631   9631    245425.0   245425.0 NaN   \n",
       "3             9014.0   9014.0 NaN   9014   9014   2093177.0  2093177.0 NaN   \n",
       "4            26711.0  26711.0 NaN  26711  26711    284667.0   284667.0 NaN   \n",
       "\n",
       "                         \n",
       "         min        max  \n",
       "0   398248.0   398248.0  \n",
       "1   458259.0   458259.0  \n",
       "2   245425.0   245425.0  \n",
       "3  2093177.0  2093177.0  \n",
       "4   284667.0   284667.0  \n",
       "\n",
       "[5 rows x 21 columns]"
      ]
     },
     "execution_count": 42,
     "metadata": {},
     "output_type": "execute_result"
    }
   ],
   "source": [
    "summary = hd.groupby('Area').agg({  \n",
    "    'Property: Owner-occupied': ['mean', 'median', 'std', 'min', 'max'],  \n",
    "    'Mean disposable household income': ['mean', 'median', 'std', 'min', 'max'],  \n",
    "    'Population density': ['mean', 'median', 'std', 'min', 'max'],\n",
    "    'nl_wp_Wonen': ['mean', 'median', 'std', 'min', 'max'],  \n",
    "})  \n",
    "\n",
    "# Reset index to make the neighborhood column a regular column  \n",
    "summary.reset_index(inplace=True)  \n",
    "\n",
    "summary.head()"
   ]
  },
  {
   "cell_type": "markdown",
   "metadata": {},
   "source": [
    "## Correlation coefficient"
   ]
  },
  {
   "cell_type": "code",
   "execution_count": 13,
   "metadata": {},
   "outputs": [
    {
     "name": "stdout",
     "output_type": "stream",
     "text": [
      "Property Owner Occupied: 0.46467266578492894\n",
      "conclusion: people who own their homes are more likely to have solar panels\n",
      "\n",
      "Population density: -0.259872688648808\n",
      "conclusion: the higher the population density, the less renewable energy per person is generated\n",
      "\n",
      "Mean disposable household income: 0.04276700834720231\n",
      "conclusion: in Amsterdam, there is no correlation between household income and availability of solar power\n"
     ]
    }
   ],
   "source": [
    "# Calculate the correlation coefficient. Give me a short definition of this coefficient\n",
    "\n",
    "print('Property Owner Occupied:', hd['nl_wp_Wonen'].corr(hd['Property: Owner-occupied']))\n",
    "print('conclusion: people who own their homes are more likely to have solar panels')\n",
    "print('')\n",
    "print('Population density:', hd['nl_wp_Wonen'].corr(hd['Population density']))\n",
    "print('conclusion: the higher the population density, the less renewable energy per person is generated')\n",
    "print('')\n",
    "print('Mean disposable household income:', hd['nl_wp_Wonen'].corr(hd['Mean disposable household income']))\n",
    "print('conclusion: in Amsterdam, there is no correlation between household income and availability of solar power')"
   ]
  },
  {
   "cell_type": "markdown",
   "metadata": {},
   "source": [
    "## Scatter plot\n",
    "\n",
    "We looked in more detail why there was no correlation between the mean disposable household income and solar generation by creating a scatter plot. We determined that you need a minimum income in order to be able to have solar panels (approximately 25,000), but at that point, income no longer is relevant. Also we are observing that there is a larger number of middle-income households and less high-income households, which is what we would expect to see. "
   ]
  },
  {
   "cell_type": "code",
   "execution_count": 26,
   "metadata": {},
   "outputs": [
    {
     "data": {
      "text/plain": [
       "<Axes: xlabel='Mean disposable household income', ylabel='nl_wp_Wonen'>"
      ]
     },
     "execution_count": 26,
     "metadata": {},
     "output_type": "execute_result"
    },
    {
     "data": {
      "image/png": "[encoded data removed]",
      "text/plain": [
       "<Figure size 1000x500 with 1 Axes>"
      ]
     },
     "metadata": {},
     "output_type": "display_data"
    }
   ],
   "source": [
    "# create a scatter plot showing the relationship between \n",
    "hd.plot(kind='scatter', y='nl_wp_Wonen', x='Mean disposable household income', figsize=(10,5))"
   ]
  },
  {
   "cell_type": "markdown",
   "metadata": {},
   "source": [
    "## Statistics\n",
    "- Mean\n",
    "- Median\n",
    "- Standard Deviation\n",
    "- Range\n",
    "- Create a histogram or box plot for at least one of the numerical features, highlighting any skewness or outliers.\n",
    "\n",
    "We were unable to derive a comclusion, but we left the code in."
   ]
  },
  {
   "cell_type": "code",
   "execution_count": 29,
   "metadata": {},
   "outputs": [
    {
     "name": "stdout",
     "output_type": "stream",
     "text": [
      "mean is 11365.669902912621\n",
      "median is 9713.0\n",
      "standard deviation is 7682.881076462506\n",
      "the minimum rating is 0 the maximum rating is 28699\n"
     ]
    }
   ],
   "source": [
    "print(\"mean is\", hd['Population density'].mean())\n",
    "print(\"median is\", hd['Population density'].median())\n",
    "print(\"standard deviation is\", hd['Population density'].std())\n",
    "\n",
    "a = hd['Population density'].min()\n",
    "b = hd['Population density'].max()\n",
    "\n",
    "print(\"the minimum rating is\", a, \"the maximum rating is\", b)"
   ]
  },
  {
   "cell_type": "code",
   "execution_count": 30,
   "metadata": {},
   "outputs": [
    {
     "name": "stdout",
     "output_type": "stream",
     "text": [
      "mean is 1235.9514563106795\n",
      "median is 1082.0\n",
      "standard deviation is 784.8684962743356\n",
      "the minimum rating is 5 the maximum rating is 3567\n"
     ]
    }
   ],
   "source": [
    "print(\"mean is\", hd['Property: Owner-occupied'].mean())\n",
    "print(\"median is\", hd['Property: Owner-occupied'].median())\n",
    "print(\"standard deviation is\", hd['Property: Owner-occupied'].std())\n",
    "\n",
    "a = hd['Property: Owner-occupied'].min()\n",
    "b = hd['Property: Owner-occupied'].max()\n",
    "\n",
    "print(\"the minimum rating is\", a, \"the maximum rating is\", b)"
   ]
  },
  {
   "cell_type": "code",
   "execution_count": 37,
   "metadata": {},
   "outputs": [
    {
     "data": {
      "text/plain": [
       "<seaborn.axisgrid.FacetGrid at 0x264c4571700>"
      ]
     },
     "execution_count": 37,
     "metadata": {},
     "output_type": "execute_result"
    },
    {
     "data": {
      "image/png": "[encoded data removed]",
      "text/plain": [
       "<Figure size 1000x500 with 1 Axes>"
      ]
     },
     "metadata": {},
     "output_type": "display_data"
    },
    {
     "data": {
      "image/png": "[encoded data removed]",
      "text/plain": [
       "<Figure size 1000x500 with 1 Axes>"
      ]
     },
     "metadata": {},
     "output_type": "display_data"
    }
   ],
   "source": [
    "sns.displot(hd['nl_wp_Wonen'], aspect=2)\n",
    "sns.displot(hd['Mean disposable household income'], aspect=2)"
   ]
  }
 ],
 "metadata": {
  "kernelspec": {
   "display_name": "Python 3",
   "language": "python",
   "name": "python3"
  },
  "language_info": {
   "codemirror_mode": {
    "name": "ipython",
    "version": 3
   },
   "file_extension": ".py",
   "mimetype": "text/x-python",
   "name": "python",
   "nbconvert_exporter": "python",
   "pygments_lexer": "ipython3",
   "version": "3.12.6"
  }
 },
 "nbformat": 4,
 "nbformat_minor": 4
}
